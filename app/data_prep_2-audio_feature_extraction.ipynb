{
 "cells": [
  {
   "cell_type": "code",
   "execution_count": 1,
   "id": "environmental-dinner",
   "metadata": {},
   "outputs": [],
   "source": [
    "import sys, os, re, gzip, json, pickle, shutil, random\n",
    "\n",
    "import numpy as np\n",
    "import matplotlib.pyplot as plt\n",
    "\n",
    "%matplotlib inline"
   ]
  },
  {
   "cell_type": "code",
   "execution_count": 2,
   "id": "further-terminology",
   "metadata": {},
   "outputs": [],
   "source": [
    "# Uncomment and run to install\n",
    "\n",
    "#!{sys.executable} -m pip install librosa\n",
    "#!{sys.executable} -m pip install matplotlib\n",
    "#!{sys.executable} -m pip install numpy"
   ]
  },
  {
   "cell_type": "code",
   "execution_count": 3,
   "id": "painful-stocks",
   "metadata": {},
   "outputs": [],
   "source": [
    "import librosa\n",
    "import librosa.display\n",
    "\n",
    "import soundfile as sf"
   ]
  },
  {
   "cell_type": "code",
   "execution_count": 4,
   "id": "material-harbor",
   "metadata": {},
   "outputs": [],
   "source": [
    "data_path = '../data'\n",
    "\n",
    "# Songs in numbered folders sorted into genre folders\n",
    "myspace_mp3s_path = '%s/myspace_mp3s' % data_path\n",
    "\n",
    "#song metadata\n",
    "metadata_path = '%s/metadata.json.gz' % myspace_mp3s_path\n",
    "\n",
    "#mapping of raw genres to general genres\n",
    "genre_map_path = '%s/genre_map.pkl' % myspace_mp3s_path\n",
    "\n",
    "# We will write extracted audio features here\n",
    "features_path = '%s/audio_features' % data_path"
   ]
  },
  {
   "cell_type": "markdown",
   "id": "revolutionary-translator",
   "metadata": {},
   "source": [
    "#### General helper methods"
   ]
  },
  {
   "cell_type": "code",
   "execution_count": 5,
   "id": "committed-point",
   "metadata": {},
   "outputs": [],
   "source": [
    "def load_metadata(metadata_path):\n",
    "    with gzip.open(metadata_path, 'rt', encoding='utf-8') as fz:\n",
    "        metadata = json.load(fz)\n",
    "    return metadata\n",
    "\n",
    "\n",
    "def load_genre_map(genre_map_path):\n",
    "    with open(genre_map_path, 'rb') as f:\n",
    "        genre_map = pickle.load(f)\n",
    "    return genre_map"
   ]
  },
  {
   "cell_type": "markdown",
   "id": "cultural-helmet",
   "metadata": {},
   "source": [
    "#### Load song metadata and genre map"
   ]
  },
  {
   "cell_type": "code",
   "execution_count": 6,
   "id": "equivalent-convergence",
   "metadata": {},
   "outputs": [],
   "source": [
    "metadata = load_metadata(metadata_path)\n",
    "genre_map = load_genre_map(genre_map_path)"
   ]
  },
  {
   "cell_type": "markdown",
   "id": "sunset-preserve",
   "metadata": {},
   "source": [
    "#### Extract and store features for myspace mp3s, resorted into genre folders by majority mapped genre."
   ]
  },
  {
   "cell_type": "code",
   "execution_count": 20,
   "id": "earlier-agenda",
   "metadata": {},
   "outputs": [],
   "source": [
    "def extract_features(mp3_path, zip_folders, features_path, metadata, genre_map, feat_type):\n",
    "    '''Use librosa to extract some type of feature from the mp3s and store in the features folder.'''\n",
    "    #various metrics to report\n",
    "    not_in_metadata = []\n",
    "    bad_mp3s = []\n",
    "    over_6 = []\n",
    "    \n",
    "    genre_cts = {g:0 for g in set(genre_map.values())}\n",
    "    ttl=0\n",
    "    \n",
    "    for zip_folder in zip_folders:\n",
    "        zip_path = '%s/%s' % (mp3_path, zip_folder)\n",
    "        print('Zip folder', zip_folder)\n",
    "        \n",
    "        for genre in os.listdir(zip_path):\n",
    "            if genre=='unknown':\n",
    "                continue\n",
    "                \n",
    "            genre_path = '%s/%s' % (zip_path, genre)\n",
    "            \n",
    "            for fn in os.listdir(genre_path):\n",
    "                if not fn.endswith('.mp3'):\n",
    "                    continue\n",
    "                    \n",
    "                fp = '%s/%s' % (genre_path, fn)\n",
    "                \n",
    "                gp = '%s/%s' % (features_path, genre)\n",
    "                if not os.path.exists(gp):\n",
    "                    os.mkdir(gp)\n",
    "\n",
    "                ttl+=1\n",
    "                if ttl%100==0:\n",
    "                    print('Total: %d, Not found: %d, Bad mp3s: %d, Over 6 min: %d, %s' % (\n",
    "                        ttl, len(not_in_metadata), len(bad_mp3s), len(over_6), over_6[-1]))\n",
    "                \n",
    "                arr_path = '%s/msp_%s_%s.npy' % (gp, zip_folder, fn.replace('.mp3', ''))\n",
    "                if os.path.exists(arr_path):\n",
    "                    continue\n",
    "                    \n",
    "                try:\n",
    "                    #the waveform and the sample_rate (22050 Hz - samples per second)\n",
    "                    x, sr = librosa.load(fp)\n",
    "                    \n",
    "                    #clip at 8M (~6min)\n",
    "                    if x.shape[0]>8000000:\n",
    "                        x = x[:8000000]\n",
    "                        over_6.append((genre, fn))\n",
    "                        \n",
    "                    #add more types if desired\n",
    "                    if feat_type=='mfcc':\n",
    "                        x_feat = librosa.feature.mfcc(x, sr=sr)\n",
    "                    elif feat_type=='melspec':\n",
    "                        x_feat = librosa.feature.melspectrogram(x, sr=sr, n_mels=128, n_fft=2048, hop_length=512)\n",
    "                    \n",
    "                    genre_cts[genre]+=1    \n",
    "                except Exception as ex:\n",
    "                    print(ex)\n",
    "                    bad_mp3s.append(zip_num_filename)\n",
    "                    continue\n",
    "                    \n",
    "                np.save(arr_path, x_feat)\n",
    "                \n",
    "    return not_in_metadata, bad_mp3s"
   ]
  },
  {
   "cell_type": "markdown",
   "id": "corrected-atlas",
   "metadata": {},
   "source": [
    "##### Extract Mel Frequency Cepstral Coefficients (mfcc)"
   ]
  },
  {
   "cell_type": "code",
   "execution_count": 22,
   "id": "sought-transition",
   "metadata": {
    "scrolled": true
   },
   "outputs": [
    {
     "name": "stdout",
     "output_type": "stream",
     "text": [
      "Zip folder 78\n",
      "Total: 100, Not found: 0, Bad mp3s: 0, Over 6 min: 5, ('alternative', 'std_05a2df5d3cdf28181c3fa12914aaf483.mp3')\n",
      "Total: 200, Not found: 0, Bad mp3s: 0, Over 6 min: 13, ('alternative', 'std_1e21759c8c989d6f67d152079e5c6c1f.mp3')\n",
      "Total: 300, Not found: 0, Bad mp3s: 0, Over 6 min: 18, ('alternative', 'std_3ee5860515934e7aaf2e267f6c5309d7.mp3')\n",
      "Total: 400, Not found: 0, Bad mp3s: 0, Over 6 min: 23, ('alternative', 'std_5308e9b61391b93b45d9208723a7a935.mp3')\n",
      "Total: 500, Not found: 0, Bad mp3s: 0, Over 6 min: 29, ('alternative', 'std_73eb1b3e722e5a242446d4cf93c81e8a.mp3')\n",
      "Total: 600, Not found: 0, Bad mp3s: 0, Over 6 min: 32, ('alternative', 'std_8954bf8da355853de2138345871b057d.mp3')\n",
      "Total: 700, Not found: 0, Bad mp3s: 0, Over 6 min: 37, ('alternative', 'std_ad1d9ae91f69f5d9bc08d8f0496e1382.mp3')\n",
      "Total: 800, Not found: 0, Bad mp3s: 0, Over 6 min: 44, ('alternative', 'std_c1f94e2fff71e6a61da1c575113d5a56.mp3')\n",
      "Total: 900, Not found: 0, Bad mp3s: 0, Over 6 min: 47, ('alternative', 'std_e1fd593a5834158f5dd9f15cc4c06a13.mp3')\n",
      "Total: 1000, Not found: 0, Bad mp3s: 0, Over 6 min: 51, ('alternative', 'std_f41186dd2aa053f5f5f7623a68f34d36.mp3')\n",
      "Total: 1100, Not found: 0, Bad mp3s: 0, Over 6 min: 76, ('ambient', 'std_c5f0e14bfca3322572253334805e6062.mp3')\n",
      "Total: 1200, Not found: 0, Bad mp3s: 0, Over 6 min: 81, ('blues', 'std_421e5aea508bc6ce976e079373549f4c.mp3')\n",
      "Total: 1300, Not found: 0, Bad mp3s: 0, Over 6 min: 88, ('classical', 'std_3584f1db730dae208268cda8af1d0017.mp3')\n",
      "Total: 1400, Not found: 0, Bad mp3s: 0, Over 6 min: 95, ('dance', 'std_0150997aa103b554d4792b739847072f.mp3')\n",
      "Total: 1500, Not found: 0, Bad mp3s: 0, Over 6 min: 121, ('dance', 'std_30426638843a5e9687b165b5651aab44.mp3')\n",
      "Total: 1600, Not found: 0, Bad mp3s: 0, Over 6 min: 151, ('dance', 'std_5d6207503d202cf01e58431fa7ec7329.mp3')\n",
      "Total: 1700, Not found: 0, Bad mp3s: 0, Over 6 min: 169, ('dance', 'std_8b4e3e4da05b76f8668422547ad28087.mp3')\n",
      "Total: 1800, Not found: 0, Bad mp3s: 0, Over 6 min: 193, ('dance', 'std_b9717d0a9b5f391ee8a17fb6753836c8.mp3')\n",
      "Total: 1900, Not found: 0, Bad mp3s: 0, Over 6 min: 217, ('dance', 'std_ea503586bf42df3813e112cd87fd1f16.mp3')\n",
      "Total: 2000, Not found: 0, Bad mp3s: 0, Over 6 min: 238, ('electronic', 'std_21199fa89cd194745dc00850f5e90218.mp3')\n",
      "Total: 2100, Not found: 0, Bad mp3s: 0, Over 6 min: 255, ('electronic', 'std_810a765906017621fe6947636b7c3e79.mp3')\n",
      "Total: 2200, Not found: 0, Bad mp3s: 0, Over 6 min: 280, ('electronic', 'std_f186c4c47c149275b528f6faf0ee0e81.mp3')\n",
      "Total: 2300, Not found: 0, Bad mp3s: 0, Over 6 min: 296, ('experimental', 'std_3f9d68521137cc6ec7778f949aa0b08b.mp3')\n",
      "Total: 2400, Not found: 0, Bad mp3s: 0, Over 6 min: 308, ('experimental', 'std_97ccf2ee8e01f2df80d70d9fc9070b4f.mp3')\n",
      "Total: 2500, Not found: 0, Bad mp3s: 0, Over 6 min: 331, ('experimental', 'std_f12b452c60b5e2a05dfd9c0e4334cefb.mp3')\n",
      "Total: 2600, Not found: 0, Bad mp3s: 0, Over 6 min: 335, ('folk', 'std_433bf2e42dce1de68547295628a25e19.mp3')\n",
      "Total: 2700, Not found: 0, Bad mp3s: 0, Over 6 min: 344, ('folk', 'std_e12bb27f5bfe474820359343a4ed62cd.mp3')\n",
      "Total: 2800, Not found: 0, Bad mp3s: 0, Over 6 min: 352, ('goth', 'std_ab63004fc695806fe5c2e3a72670cc27.mp3')\n",
      "Total: 2900, Not found: 0, Bad mp3s: 0, Over 6 min: 356, ('hip_hop', 'std_244ff888d76168f51d5111d09238cea2.mp3')\n",
      "Total: 3000, Not found: 0, Bad mp3s: 0, Over 6 min: 359, ('hip_hop', 'std_75ffb677e076ee67dad8827496be9715.mp3')\n",
      "Total: 3100, Not found: 0, Bad mp3s: 0, Over 6 min: 364, ('hip_hop', 'std_aa2f93a4d3e4ef8584152d06f2ef10b8.mp3')\n",
      "Total: 3200, Not found: 0, Bad mp3s: 0, Over 6 min: 370, ('hip_hop', 'std_e1989f5b3e95e81b9528116b61226fc2.mp3')\n",
      "Total: 3300, Not found: 0, Bad mp3s: 0, Over 6 min: 390, ('house', 'std_e5788662b1de058e4c1c8f23744ade55.mp3')\n",
      "Total: 3400, Not found: 0, Bad mp3s: 0, Over 6 min: 407, ('jazz', 'std_355534ac53c66e88731f22cd0502975a.mp3')\n",
      "Total: 3500, Not found: 0, Bad mp3s: 0, Over 6 min: 415, ('jazz', 'std_7168b227d86d79b29b91d71f28a89a27.mp3')\n",
      "Total: 3600, Not found: 0, Bad mp3s: 0, Over 6 min: 433, ('jazz', 'std_a732c4b2f3e4553976f93cc0380bba52.mp3')\n",
      "Total: 3700, Not found: 0, Bad mp3s: 0, Over 6 min: 442, ('jazz', 'std_db9ec64b364d78f4f992ec60a151d296.mp3')\n",
      "Total: 3800, Not found: 0, Bad mp3s: 0, Over 6 min: 454, ('metal', 'std_038ac57552b10dd8a195d430497fa2ef.mp3')\n",
      "Total: 3900, Not found: 0, Bad mp3s: 0, Over 6 min: 463, ('metal', 'std_279fc83879d4eb00cda1579ebb18432b.mp3')\n",
      "Total: 4000, Not found: 0, Bad mp3s: 0, Over 6 min: 473, ('metal', 'std_41939c77550ea42d18083eacec93fa1e.mp3')\n",
      "Total: 4100, Not found: 0, Bad mp3s: 0, Over 6 min: 483, ('metal', 'std_5ac71c3a6d130f0eec1da469a2b3df08.mp3')\n",
      "Total: 4200, Not found: 0, Bad mp3s: 0, Over 6 min: 487, ('metal', 'std_798437eb85a485e8637e285641606d2a.mp3')\n",
      "Total: 4300, Not found: 0, Bad mp3s: 0, Over 6 min: 492, ('metal', 'std_9ab3ac81d844413c4d844d9c6c3da28c.mp3')\n",
      "Total: 4400, Not found: 0, Bad mp3s: 0, Over 6 min: 499, ('metal', 'std_c3e27e626df30ca81bcd1353c5f9f896.mp3')\n",
      "Total: 4500, Not found: 0, Bad mp3s: 0, Over 6 min: 510, ('metal', 'std_e95c629b91eff1133caaaf16b0c69f15.mp3')\n",
      "Total: 4600, Not found: 0, Bad mp3s: 0, Over 6 min: 514, ('other', 'std_0881c81e0d1c2083e6400c2a75dccc76.mp3')\n",
      "Total: 4700, Not found: 0, Bad mp3s: 0, Over 6 min: 525, ('other', 'std_4eea9b4cc8b9b5d2ec4f89fb1244a7ae.mp3')\n",
      "Total: 4800, Not found: 0, Bad mp3s: 0, Over 6 min: 534, ('other', 'std_9fe30e32f396caa36c046566e676393d.mp3')\n",
      "Total: 4900, Not found: 0, Bad mp3s: 0, Over 6 min: 544, ('other', 'std_f6e767cc3c24435fc38e7e56e5d273ac.mp3')\n",
      "Total: 5000, Not found: 0, Bad mp3s: 0, Over 6 min: 547, ('pop', 'std_1f7fb7a2122a433955e395bc5fa1e6a6.mp3')\n",
      "Total: 5100, Not found: 0, Bad mp3s: 0, Over 6 min: 553, ('pop', 'std_5ebd0da5433b53bea224b609521a5af0.mp3')\n",
      "Total: 5200, Not found: 0, Bad mp3s: 0, Over 6 min: 558, ('pop', 'std_7f4967fc80cdf1e8fc023504c62254e8.mp3')\n",
      "Total: 5300, Not found: 0, Bad mp3s: 0, Over 6 min: 561, ('pop', 'std_ba4437fa8f1fa77628d3a92b7c4d6c15.mp3')\n",
      "Total: 5400, Not found: 0, Bad mp3s: 0, Over 6 min: 564, ('pop', 'std_e9bfbe8e5b8f0a52549ba17c28b10e71.mp3')\n",
      "Total: 5500, Not found: 0, Bad mp3s: 0, Over 6 min: 577, ('punk', 'std_4a1e86a13e430f8fb36b4a8d22db272b.mp3')\n",
      "Total: 5600, Not found: 0, Bad mp3s: 0, Over 6 min: 578, ('punk', 'std_bb8def5fa20b964c87dc7fbddb3af634.mp3')\n",
      "Total: 5700, Not found: 0, Bad mp3s: 0, Over 6 min: 579, ('punk', 'std_ef6e6699e7d2a84bf977636de1ffd378.mp3')\n",
      "Total: 5800, Not found: 0, Bad mp3s: 0, Over 6 min: 582, ('rap', 'std_44f22e6d33e14b15709107dbe6efac7f.mp3')\n",
      "Total: 5900, Not found: 0, Bad mp3s: 0, Over 6 min: 585, ('rap', 'std_64a55019207e70235988cccf712615be.mp3')\n",
      "Total: 6000, Not found: 0, Bad mp3s: 0, Over 6 min: 586, ('rap', 'std_90fd911fafdd5ac371b20f6e6501d1dd.mp3')\n",
      "Total: 6100, Not found: 0, Bad mp3s: 0, Over 6 min: 588, ('rap', 'std_c07f6f2a090bf58854839a3e860c331e.mp3')\n",
      "Total: 6200, Not found: 0, Bad mp3s: 0, Over 6 min: 592, ('rap', 'std_e07f4c9e029c426b4a572b5bcabd44ec.mp3')\n",
      "Total: 6300, Not found: 0, Bad mp3s: 0, Over 6 min: 595, ('reggae', 'std_36daea2b2b5516fd6f9c5fcbe0a7dc43.mp3')\n",
      "Total: 6400, Not found: 0, Bad mp3s: 0, Over 6 min: 604, ('rock', 'std_049902a73f1b70ea89ff639e1aebfff8.mp3')\n",
      "Total: 6500, Not found: 0, Bad mp3s: 0, Over 6 min: 612, ('rock', 'std_1cccc69e29372d1c924877c64ffde51e.mp3')\n",
      "Total: 6600, Not found: 0, Bad mp3s: 0, Over 6 min: 618, ('rock', 'std_2e42db4034d2c44a0f224ec941533a19.mp3')\n",
      "Total: 6700, Not found: 0, Bad mp3s: 0, Over 6 min: 621, ('rock', 'std_3fd94c9b5de12555b2026263e107f164.mp3')\n",
      "Total: 6800, Not found: 0, Bad mp3s: 0, Over 6 min: 629, ('rock', 'std_5584e8ec2e05cf7f80c7ca0f1c2a0ef0.mp3')\n",
      "Total: 6900, Not found: 0, Bad mp3s: 0, Over 6 min: 636, ('rock', 'std_6a22390e763810d7c494b846da5e3057.mp3')\n",
      "Total: 7000, Not found: 0, Bad mp3s: 0, Over 6 min: 644, ('rock', 'std_7e51466b9a319d38b570c4ff7ac8701e.mp3')\n",
      "Total: 7100, Not found: 0, Bad mp3s: 0, Over 6 min: 649, ('rock', 'std_9632df996c05183db6fb3dfb693b4ee0.mp3')\n",
      "Total: 7200, Not found: 0, Bad mp3s: 0, Over 6 min: 660, ('rock', 'std_a8a9833242b519f8fb2838cf5059a794.mp3')\n",
      "Total: 7300, Not found: 0, Bad mp3s: 0, Over 6 min: 666, ('rock', 'std_be0d57365abf228cd3ea4430aebd9e2e.mp3')\n",
      "Total: 7400, Not found: 0, Bad mp3s: 0, Over 6 min: 673, ('rock', 'std_d40ac78257158369a11fb8dd925d2697.mp3')\n"
     ]
    },
    {
     "name": "stdout",
     "output_type": "stream",
     "text": [
      "Total: 7500, Not found: 0, Bad mp3s: 0, Over 6 min: 685, ('rock', 'std_e479982e31b99cfb97610ab4774e5bf3.mp3')\n",
      "Total: 7600, Not found: 0, Bad mp3s: 0, Over 6 min: 697, ('rock', 'std_fd91e955df22ba9e2eb40e79eb68ddb5.mp3')\n",
      "Total: 7700, Not found: 323, Bad mp3s: 0, Over 6 min: 702, ('world', 'std_27a46a6a135b7f4df20b335b0e373cea.mp3')\n",
      "Total: 7800, Not found: 323, Bad mp3s: 0, Over 6 min: 708, ('world', 'std_908f758c14d1058ec6e1dfcefbbe3566.mp3')\n",
      "Total: 7900, Not found: 323, Bad mp3s: 0, Over 6 min: 715, ('world', 'std_e6d83f9bfb01056e71dc77581726dc98.mp3')\n"
     ]
    },
    {
     "data": {
      "text/plain": [
       "(323, 0)"
      ]
     },
     "execution_count": 22,
     "metadata": {},
     "output_type": "execute_result"
    }
   ],
   "source": [
    "feat_type = 'mfcc'\n",
    "\n",
    "mfcc_features_path = '%s/mfcc' % features_path\n",
    "if not os.path.exists(mfcc_features_path):\n",
    "    os.mkdir(mfcc_features_path)\n",
    "\n",
    "# There are around 4500 songs per numbered folder\n",
    "#zip_folders = [zf for zf in os.listdir(myspace_mp3s_path) if zf.isdigit()]\n",
    "zip_folders = ['78']\n",
    "    \n",
    "not_in_metadata, bad_mp3s = extract_features(myspace_mp3s_path, zip_folders, mfcc_features_path,\n",
    "                                             metadata, genre_map, feat_type)\n",
    "len(not_in_metadata), len(bad_mp3s) #1852, 6"
   ]
  },
  {
   "cell_type": "markdown",
   "id": "material-agriculture",
   "metadata": {},
   "source": [
    "##### Extract Mel Spectrograms (melspec)"
   ]
  },
  {
   "cell_type": "code",
   "execution_count": 26,
   "id": "advance-bennett",
   "metadata": {
    "scrolled": true
   },
   "outputs": [
    {
     "name": "stdout",
     "output_type": "stream",
     "text": [
      "Zip folder 81\n",
      "Total: 100, Not found: 0, Bad mp3s: 0, Over 6 min: 2, ('alternative', 'std_252cfdca9da60c689372d0d101272668.mp3')\n",
      "Total: 200, Not found: 0, Bad mp3s: 0, Over 6 min: 6, ('alternative', 'std_58e7ce3e52219fd534b8f6d41d4c7b5b.mp3')\n",
      "Total: 300, Not found: 0, Bad mp3s: 0, Over 6 min: 9, ('alternative', 'std_8b52778b9f4b9f07ab4ea610853e2380.mp3')\n",
      "Total: 400, Not found: 0, Bad mp3s: 0, Over 6 min: 13, ('alternative', 'std_ba05e8685ab31957a957e16b9859db99.mp3')\n",
      "Total: 500, Not found: 0, Bad mp3s: 0, Over 6 min: 16, ('alternative', 'std_ebbf131932ccb794654a1741530db0a0.mp3')\n",
      "Total: 600, Not found: 0, Bad mp3s: 0, Over 6 min: 33, ('blues', 'std_32842abfe2e37538ee7984a4626433f4.mp3')\n",
      "Total: 700, Not found: 0, Bad mp3s: 0, Over 6 min: 36, ('classical', 'std_8106a1266281dc4ae06b931d3d389b92.mp3')\n",
      "Total: 800, Not found: 0, Bad mp3s: 0, Over 6 min: 60, ('dance', 'std_4bd158332d3141d6776a999ece3e0cec.mp3')\n",
      "Total: 900, Not found: 0, Bad mp3s: 0, Over 6 min: 89, ('dance', 'std_9e3777e15de65abe5204d0c28d30f9d2.mp3')\n",
      "Total: 1000, Not found: 0, Bad mp3s: 0, Over 6 min: 109, ('dance', 'std_e025810f040e1ed39ca01254bd7dccc7.mp3')\n",
      "Total: 1100, Not found: 0, Bad mp3s: 0, Over 6 min: 130, ('electronic', 'std_994fe7ee0db1a59626009a80ed181238.mp3')\n",
      "Total: 1200, Not found: 0, Bad mp3s: 0, Over 6 min: 154, ('experimental', 'std_52d1043e5249ab5a4fb2ad1c81d30a16.mp3')\n",
      "Total: 1300, Not found: 0, Bad mp3s: 0, Over 6 min: 171, ('experimental', 'std_e3033453cdb301c93deb16cf19f95b7f.mp3')\n",
      "Total: 1400, Not found: 0, Bad mp3s: 0, Over 6 min: 183, ('goth', 'std_aac28f7f27c3d3dfb8eef0c36a836958.mp3')\n",
      "Total: 1500, Not found: 0, Bad mp3s: 0, Over 6 min: 190, ('hip_hop', 'std_45f517704a6677990d1e1179fe38bb59.mp3')\n",
      "Total: 1600, Not found: 0, Bad mp3s: 0, Over 6 min: 192, ('hip_hop', 'std_8dafbb1f164c44745fa4f910d63f0973.mp3')\n",
      "Total: 1700, Not found: 0, Bad mp3s: 0, Over 6 min: 195, ('house', 'std_11d51fc584d1483a6b444ae29a4d924c.mp3')\n",
      "Total: 1800, Not found: 0, Bad mp3s: 0, Over 6 min: 211, ('jazz', 'std_5a9efea69cdb01c80e3dbe20206833d0.mp3')\n",
      "Total: 1900, Not found: 0, Bad mp3s: 0, Over 6 min: 219, ('jazz', 'std_cb4c92db7a0a8fda032fc3839fc55cd8.mp3')\n",
      "Total: 2000, Not found: 0, Bad mp3s: 0, Over 6 min: 227, ('metal', 'std_27d077e870f6dc9b21aa771a6043c62d.mp3')\n",
      "Total: 2100, Not found: 0, Bad mp3s: 0, Over 6 min: 233, ('metal', 'std_49fbc870cd83255b2cfb799265257e35.mp3')\n",
      "Total: 2200, Not found: 0, Bad mp3s: 0, Over 6 min: 242, ('metal', 'std_a833b9979139ca3b838312044f4bc2f7.mp3')\n",
      "Total: 2300, Not found: 0, Bad mp3s: 0, Over 6 min: 256, ('other', 'std_078886b52047100eeaabd99074550fbf.mp3')\n",
      "Total: 2400, Not found: 0, Bad mp3s: 0, Over 6 min: 264, ('other', 'std_b9d85fe67d37f26166910b1a9407be90.mp3')\n",
      "Total: 2500, Not found: 0, Bad mp3s: 0, Over 6 min: 270, ('pop', 'std_2c74033e562fb6b7ee2516318b4fcc5c.mp3')\n",
      "Total: 2600, Not found: 0, Bad mp3s: 0, Over 6 min: 274, ('pop', 'std_b9265c8b3b7c5f4e42a56460ca051638.mp3')\n",
      "Total: 2700, Not found: 0, Bad mp3s: 0, Over 6 min: 278, ('progressive', 'std_ab63272870462978fcb78451ce3d6d36.mp3')\n",
      "Total: 2800, Not found: 0, Bad mp3s: 0, Over 6 min: 278, ('progressive', 'std_ab63272870462978fcb78451ce3d6d36.mp3')\n",
      "Total: 2900, Not found: 0, Bad mp3s: 0, Over 6 min: 279, ('rap', 'std_308a8a492364c34d6ab11bee1537e506.mp3')\n",
      "Total: 3000, Not found: 0, Bad mp3s: 0, Over 6 min: 281, ('rap', 'std_694bcefd1cd1d26fc7e85cc26569468f.mp3')\n",
      "Total: 3100, Not found: 0, Bad mp3s: 0, Over 6 min: 283, ('rap', 'std_c9157e9e009a2b0167605ed95d1c1262.mp3')\n",
      "Total: 3200, Not found: 0, Bad mp3s: 0, Over 6 min: 283, ('rap', 'std_c9157e9e009a2b0167605ed95d1c1262.mp3')\n",
      "Total: 3300, Not found: 0, Bad mp3s: 0, Over 6 min: 288, ('rock', 'std_1695e76c6fe36d84ca084dd684057cb9.mp3')\n",
      "Total: 3400, Not found: 0, Bad mp3s: 0, Over 6 min: 292, ('rock', 'std_2e1a8c88ac2916551541692264171125.mp3')\n",
      "Total: 3500, Not found: 0, Bad mp3s: 0, Over 6 min: 299, ('rock', 'std_6050fa2a1957e558403bf81bfb6d1ff0.mp3')\n",
      "Total: 3600, Not found: 0, Bad mp3s: 0, Over 6 min: 303, ('rock', 'std_8a00e3b2c813ffb92f18d4cdcea55949.mp3')\n",
      "Total: 3700, Not found: 0, Bad mp3s: 0, Over 6 min: 309, ('rock', 'std_b23582df6f027ae725c57988d963fa7d.mp3')\n",
      "Total: 3800, Not found: 0, Bad mp3s: 0, Over 6 min: 313, ('rock', 'std_c4dfe1872998676f1c623dcbe571df98.mp3')\n",
      "Total: 3900, Not found: 220, Bad mp3s: 0, Over 6 min: 320, ('world', 'std_1078e0bfebd218673afe5b33fa93caba.mp3')\n"
     ]
    }
   ],
   "source": [
    "feat_type = 'melspec'\n",
    "\n",
    "melspec_features_path = '%s/melspec' % features_path\n",
    "\n",
    "if not os.path.exists(melspec_features_path):\n",
    "    os.mkdir(melspec_features_path)\n",
    "\n",
    "#zip_folders = [zf for zf in os.listdir(myspace_mp3s_path) if zf.isdigit()]\n",
    "zip_folders = ['81']\n",
    "_, _ = extract_features(myspace_mp3s_path, zip_folders, melspec_features_path, \n",
    "                        metadata, genre_map, feat_type)"
   ]
  },
  {
   "cell_type": "code",
   "execution_count": null,
   "id": "antique-domain",
   "metadata": {},
   "outputs": [],
   "source": []
  }
 ],
 "metadata": {
  "kernelspec": {
   "display_name": "Python 3",
   "language": "python",
   "name": "python3"
  },
  "language_info": {
   "codemirror_mode": {
    "name": "ipython",
    "version": 3
   },
   "file_extension": ".py",
   "mimetype": "text/x-python",
   "name": "python",
   "nbconvert_exporter": "python",
   "pygments_lexer": "ipython3",
   "version": "3.9.1"
  }
 },
 "nbformat": 4,
 "nbformat_minor": 5
}
