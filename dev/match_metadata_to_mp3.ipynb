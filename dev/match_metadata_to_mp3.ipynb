{
 "cells": [
  {
   "cell_type": "code",
   "execution_count": 49,
   "id": "clean-worship",
   "metadata": {},
   "outputs": [],
   "source": [
    "import sys, os, re, gzip\n",
    "\n",
    "from pydub.utils import mediainfo"
   ]
  },
  {
   "cell_type": "code",
   "execution_count": 2,
   "id": "hazardous-prior",
   "metadata": {},
   "outputs": [],
   "source": [
    "data_path = '../data'\n",
    "mp3s_path = '%s/mp3s' % data_path\n",
    "song_data_file = '%s/mp3com_html_analysis_output.txt' % data_path\n",
    "\n",
    "#create this cleaned metadata file\n",
    "metadata_path = '%s/metadata.txt.gz' % data_path"
   ]
  },
  {
   "cell_type": "code",
   "execution_count": 3,
   "id": "temporal-width",
   "metadata": {},
   "outputs": [],
   "source": [
    "#\n",
    "# Parse song file - extract and clean select fields\n",
    "#"
   ]
  },
  {
   "cell_type": "code",
   "execution_count": 24,
   "id": "extraordinary-entrepreneur",
   "metadata": {},
   "outputs": [],
   "source": [
    "def parse_metadata_file(file_path, out_path):\n",
    "    #Headers and record example:\n",
    "    #File Name\tArtist Name\tSong Name\tGenre\tComment\tCD\tLabel\tCredits\tDownload Link\tMp3 Filename\n",
    "    #.\\artist_song\\0\\249.html\t Beefchow\tKeep on Dancin (original)\tClub\tDance (Pretty upbeat and catchy)\tTekknotrancemissions\t\tDJ Beefchow\thttp://play.mp3.com/cgi-bin/play/play.cgi/AAIAQvkAAADABG5vcm1QGAAAAFL5AAAAUQEAAABDwienPtGPy4rQmW9N6pQj_gKeqQs-/Keep_on_Dancin_origina.mp3\tKeep_on_Dancin_origina.mp3\n",
    "    lines = []\n",
    "    ttl=0\n",
    "    field_cts = {'genre':0, 'artist_name':0, 'album_name':0, 'song_name':0, 'comment':0, 'mp3_filename':0}\n",
    "\n",
    "    with open(file_path, encoding='ISO-8859-1') as f:\n",
    "        headers = f.readline().replace('\\n','')\n",
    "        \n",
    "        #clean up headers\n",
    "        headers = headers.replace('CD', 'album_name')\n",
    "        headers = [h.lower().replace(' ','_') for h in headers.split('\\t')]\n",
    "        \n",
    "        #select only the headers we're interested in\n",
    "        col_idx = [headers.index(field) for field in field_cts.keys()]\n",
    "        \n",
    "        headers = [headers[i] for i in col_idx]\n",
    "        \n",
    "        lines.append('ID\\t%s' % '\\t'.join(headers))\n",
    "        print(headers)\n",
    "\n",
    "        for i,line in enumerate(f):\n",
    "            items = line.replace('\\n','').split('\\t')\n",
    "\n",
    "            if not len(items)==10:\n",
    "                continue\n",
    "                \n",
    "            #no mp3 name\n",
    "            if not items[-1]:\n",
    "                continue\n",
    "\n",
    "            ttl+=1\n",
    "\n",
    "            items = [items[j].strip() for j in col_idx]\n",
    "\n",
    "            #'mp3_filename', 'genre', 'artist_name', 'album_name', 'song_name', 'comment'\n",
    "            if items[0]:\n",
    "                field_cts['mp3_filename']+=1\n",
    "            if items[1]:\n",
    "                field_cts['genre']+=1\n",
    "            if items[2]:\n",
    "                field_cts['artist_name']+=1\n",
    "            if items[3]:\n",
    "                field_cts['album_name']+=1\n",
    "            if items[4]:\n",
    "                field_cts['song_name']+=1\n",
    "            if items[5]:\n",
    "                field_cts['comment']+=1\n",
    "\n",
    "            lines.append('%d\\t%s' % (i, '\\t'.join(items)))\n",
    "            \n",
    "            if i and i%50000==0:\n",
    "                print(i, field_cts, '\\n', items)\n",
    "               \n",
    "    print(ttl, field_cts, [(k,v/ttl) for k,v in field_cts.items()])\n",
    "    \n",
    "    with gzip.open(out_path, 'wt', encoding='utf-8') as oz:\n",
    "        for i, line in enumerate(lines):\n",
    "            oz.write('%s\\n' % (line))"
   ]
  },
  {
   "cell_type": "code",
   "execution_count": 25,
   "id": "express-brake",
   "metadata": {
    "scrolled": true
   },
   "outputs": [
    {
     "name": "stdout",
     "output_type": "stream",
     "text": [
      "['genre', 'artist_name', 'album_name', 'song_name', 'comment', 'mp3_filename']\n",
      "50000 {'genre': 43205, 'artist_name': 25840, 'album_name': 43204, 'song_name': 31307, 'comment': 43205, 'mp3_filename': 43205} \n",
      " ['Experimental/Post Rock', 'WarpBoy', '', 'Techether', 'Please read the lyrics and then relisten with headphones to get the full experience. And yes the background music sounds crappy. The quality on the music was intentionnaly degraded with a low pass filter and copied to tape and back to digital for artistic purposes.', 'Techether.mp3']\n",
      "100000 {'genre': 85523, 'artist_name': 50085, 'album_name': 85523, 'song_name': 62086, 'comment': 85524, 'mp3_filename': 85524} \n",
      " ['Experimental', 'DJ  Tokkin1', '', 'trippin out the beat', 'another song made after tokin a mighty tighty whitey', 'trippin_out_the_beat.mp3']\n",
      "150000 {'genre': 126950, 'artist_name': 74983, 'album_name': 126955, 'song_name': 91458, 'comment': 126956, 'mp3_filename': 126956} \n",
      " ['Satire', 'Mitch &amp; Max Productions', 'max &amp; mitch productions', 'gunfight at the pizza corral-ch. 3', '', 'gunfight_at_the_pizza_.mp3']\n",
      "200000 {'genre': 167368, 'artist_name': 98574, 'album_name': 167379, 'song_name': 120149, 'comment': 167381, 'mp3_filename': 167381} \n",
      " ['Rock', 'The Finksters', 'Shvinkta Three Times', 'Fink Floyd', 'Spacey Finkster jam music with hard rockin undertones', 'Fink_Floyd.mp3']\n",
      "250000 {'genre': 207512, 'artist_name': 122084, 'album_name': 207531, 'song_name': 147642, 'comment': 207533, 'mp3_filename': 207533} \n",
      " ['Indie Pop/Lo Fi', 'Merlin Mann', '', 'Shopper of the Year', 'Recorded April, 1999.', 'Shopper_of_the_Year.mp3']\n",
      "300000 {'genre': 247547, 'artist_name': 145643, 'album_name': 247569, 'song_name': 174725, 'comment': 247571, 'mp3_filename': 247571} \n",
      " ['Christian Blues', 'RON   BUTKO', 'RON BUTKO 192', 'WHERE IS YOUR FAITH 192', '', 'WHERE_IS_YOUR_FAITH_19.mp3']\n",
      "400000 {'genre': 326324, 'artist_name': 191733, 'album_name': 326477, 'song_name': 227270, 'comment': 326481, 'mp3_filename': 326479} \n",
      " ['Emo', 'Somewhere Further South', 'Couple Skate Only EP', 'Last Page First', '', 'Last_Page_First.mp3']\n",
      "450000 {'genre': 365684, 'artist_name': 215687, 'album_name': 365866, 'song_name': 252856, 'comment': 365870, 'mp3_filename': 365868} \n",
      " ['Punk', 'Jeeves', '', \"She Don't Wanna\", '', 'She_Dont_Wanna.mp3']\n",
      "500000 {'genre': 404924, 'artist_name': 239638, 'album_name': 405126, 'song_name': 277725, 'comment': 405130, 'mp3_filename': 405128} \n",
      " ['Techno', 'Mike Dobbins', '', 'Nightmare', 'YEA! Finally my second song! Yea its a little longer than my first, but im working on an even better one. This song is pretty strange...but i like it!', 'Nightmare.mp3']\n",
      "600000 {'genre': 484008, 'artist_name': 289397, 'album_name': 484347, 'song_name': 328562, 'comment': 484351, 'mp3_filename': 484349} \n",
      " ['Rock', 'Hal Newman and the Mystics of Time', \"America's Party Band\", 'Sing My Way Out Of These Blues', 'Jazz-inflected big-band blues with killer horns.', 'Sing_My_Way_Out_Of_The.mp3']\n",
      "650000 {'genre': 528257, 'artist_name': 318247, 'album_name': 528599, 'song_name': 361118, 'comment': 528604, 'mp3_filename': 528602} \n",
      " ['Ambient', 'lagger', '', 'transense ion (broken euphoria mix)', '.. ambient and soothing, with a warm bassline', 'transense_ion_broken_e.mp3']\n",
      "572246 {'genre': 571899, 'artist_name': 345273, 'album_name': 572241, 'song_name': 393369, 'comment': 572246, 'mp3_filename': 572244} [('genre', 0.999393617430266), ('artist_name', 0.6033646368869332), ('album_name', 0.9999912624989952), ('song_name', 0.6874124065524267), ('comment', 1.0), ('mp3_filename', 0.999996504999598)]\n"
     ]
    }
   ],
   "source": [
    "parse_metadata_file(song_data_file, metadata_path)"
   ]
  },
  {
   "cell_type": "code",
   "execution_count": null,
   "id": "dying-mumbai",
   "metadata": {},
   "outputs": [],
   "source": [
    "#\n",
    "# Try matching unique file names, extract metadata from unmatched files\n",
    "#"
   ]
  },
  {
   "cell_type": "code",
   "execution_count": 31,
   "id": "graduate-stroke",
   "metadata": {},
   "outputs": [],
   "source": [
    "def get_file_names(metadata_path):\n",
    "    mp3s_metadata = {}\n",
    "    field_idx = {}\n",
    "    file_names = set()\n",
    "    dup_file_names = set()\n",
    "    \n",
    "    with gzip.open(metadata_path, 'rt', encoding='utf-8') as fz:\n",
    "        for i, line in enumerate(fz):\n",
    "            line=line.replace('\\n','')\n",
    "            \n",
    "            if i==0:\n",
    "                headers = line.split('\\t')\n",
    "                field_idx = {h:j for j,h in enumerate(headers)}\n",
    "                continue\n",
    "                \n",
    "            items = line.split('\\t')\n",
    "            if not len(items)==len(field_idx):\n",
    "                print(i, items)\n",
    "                continue\n",
    "                \n",
    "            mp3_metadata = {}\n",
    "            for h,j in field_idx.items():\n",
    "                mp3_metadata[h] = items[j]\n",
    "                \n",
    "            file_name = mp3_metadata['mp3_filename']\n",
    "            if file_name in file_names:\n",
    "                dup_file_names.add(file_name)\n",
    "            else:\n",
    "                file_names.add(file_name)\n",
    "                \n",
    "            mp3s_metadata[mp3_metadata['ID']] = mp3_metadata\n",
    "            \n",
    "    mp3s_metadata_dup_names = {k:v for k,v in mp3s_metadata.items() if v['mp3_filename'] in dup_file_names}\n",
    "    mp3s_metadata_uniq_names = {k:v for k,v in mp3s_metadata.items() if v['mp3_filename'] not in dup_file_names}\n",
    "    \n",
    "    return mp3s_metadata_dup_names, mp3s_metadata_uniq_names"
   ]
  },
  {
   "cell_type": "code",
   "execution_count": 32,
   "id": "indonesian-rebound",
   "metadata": {},
   "outputs": [
    {
     "data": {
      "text/plain": [
       "(397801, 40334)"
      ]
     },
     "execution_count": 32,
     "metadata": {},
     "output_type": "execute_result"
    }
   ],
   "source": [
    "mp3s_metadata_dup_names, mp3s_metadata_uniq_names = get_file_names(metadata_path)\n",
    "len(uniq_names), len(dup_names)"
   ]
  },
  {
   "cell_type": "code",
   "execution_count": 41,
   "id": "express-sport",
   "metadata": {},
   "outputs": [],
   "source": [
    "def find_ambiguous_files(mp3s_path, mp3s_metadata_uniq_names, mp3s_metadata_dup_names):\n",
    "    uniq_names = set([v['mp3_filename'] for v in mp3s_metadata_uniq_names.values()])\n",
    "    dup_names = set([v['mp3_filename'] for v in mp3s_metadata_dup_names.values()])\n",
    "\n",
    "    found, dups, unknown = set(), set(), set()\n",
    "\n",
    "    for fn in os.listdir(mp3s_path):\n",
    "        if not fn.endswith('.mp3'):\n",
    "            continue\n",
    "        if fn in uniq_names:\n",
    "            found.add(fn)\n",
    "        elif fn in dup_names:\n",
    "            dups.add(fn)\n",
    "        else:\n",
    "            unknown.add(fn)\n",
    "\n",
    "    print('Found: %d, Known Dup: %d, Unknown: %d' % (len(found), len(dups), len(unknown)))\n",
    "    \n",
    "    return found, dups, unknown"
   ]
  },
  {
   "cell_type": "code",
   "execution_count": 42,
   "id": "eastern-compatibility",
   "metadata": {},
   "outputs": [
    {
     "name": "stdout",
     "output_type": "stream",
     "text": [
      "8 7 1\n"
     ]
    }
   ],
   "source": [
    "found, dups, unknown = find_ambiguous_files(mp3s_path, mp3s_metadata_uniq_names, mp3s_metadata_dup_names)"
   ]
  },
  {
   "cell_type": "code",
   "execution_count": 53,
   "id": "atmospheric-miniature",
   "metadata": {},
   "outputs": [],
   "source": [
    "def try_disambiguate(dups, unknown, mp3s_path, mp3s_metadata_dup_names):\n",
    "    metadata_mp3_name_to_idx = {}\n",
    "    dup_mp3_and_artist = set()\n",
    "    i=0\n",
    "    for fn in os.listdir(mp3s_path):\n",
    "        if not fn.endswith('.mp3'):\n",
    "            continue\n",
    "        if fn not in dups and fn not in unknown:\n",
    "            continue\n",
    "            \n",
    "        i+=1\n",
    "        if i%1000==0:\n",
    "            print(i, len(metadata_mp3_name_to_idx))\n",
    "            \n",
    "        fp = '%s/%s' % (mp3s_path, fn)\n",
    "        \n",
    "        file_name = fn\n",
    "        if fn in unknown and re.match('.+ \\([0-9]+\\)\\.mp3', fn):\n",
    "            file_name = re.sub(' \\([0-9]+\\)\\.mp3', '.mp3', fn)\n",
    "        \n",
    "        metadata = mediainfo(fp).get('TAG', None)\n",
    "        #metadata = {'encoder': 'LAME3.92 ', 'title': 'Believe', 'artist': 'DREAMTRONIX', \n",
    "        #            'comment': 'http://www.mp3.com/DREAMTRONIX','genre': 'Blues'}\n",
    "        \n",
    "        artist = metadata['artist'].lower() if 'artist' in metadata else ''\n",
    "        #genre often differs between the metadata and song list\n",
    "        #genre = metadata['genre'].lower() if 'genre' in metadata else ''\n",
    "        \n",
    "        for idx, rec in mp3s_metadata_dup_names.items():\n",
    "            if rec['mp3_filename']==file_name:\n",
    "                if artist == rec['artist_name'].lower():\n",
    "                    if fn in metadata_mp3_name_to_idx:\n",
    "                        dup_mp3_and_artist.add((fn, file_name, artist))\n",
    "                    else:\n",
    "                        metadata_mp3_name_to_idx[fn] = idx\n",
    "                    \n",
    "    print(len(metadata_mp3_name_to_idx), len(dup_mp3_and_artist))\n",
    "    \n",
    "    return metadata_mp3_name_to_idx, dup_mp3_and_artist"
   ]
  },
  {
   "cell_type": "code",
   "execution_count": 54,
   "id": "personalized-tobago",
   "metadata": {},
   "outputs": [
    {
     "name": "stdout",
     "output_type": "stream",
     "text": [
      "8 1\n"
     ]
    }
   ],
   "source": [
    "metadata_mp3_name_to_idx, dup_mp3_and_artist = try_disambiguate(dups, unknown, mp3s_path, mp3s_metadata_dup_names)"
   ]
  },
  {
   "cell_type": "code",
   "execution_count": 55,
   "id": "ambient-ontario",
   "metadata": {},
   "outputs": [
    {
     "data": {
      "text/plain": [
       "({'Beautiful_Sky.mp3': '383823',\n",
       "  'Beethoven_Sonata_No_8_.mp3': '4568',\n",
       "  'BEINGS_FROM_A_STRANGE_.mp3': '548756',\n",
       "  'Believe (4).mp3': '518192',\n",
       "  'Best_Friend.mp3': '609387',\n",
       "  'Better_Life.mp3': '233945',\n",
       "  'Be_Glorified.mp3': '538610',\n",
       "  'Be_With_Me.mp3': '457550'},\n",
       " {('BEINGS_FROM_A_STRANGE_.mp3',\n",
       "   'BEINGS_FROM_A_STRANGE_.mp3',\n",
       "   'the serenity project')})"
      ]
     },
     "execution_count": 55,
     "metadata": {},
     "output_type": "execute_result"
    }
   ],
   "source": [
    "metadata_mp3_name_to_idx, dup_mp3_and_artist"
   ]
  },
  {
   "cell_type": "code",
   "execution_count": null,
   "id": "moved-representation",
   "metadata": {},
   "outputs": [],
   "source": []
  }
 ],
 "metadata": {
  "kernelspec": {
   "display_name": "Python 3",
   "language": "python",
   "name": "python3"
  },
  "language_info": {
   "codemirror_mode": {
    "name": "ipython",
    "version": 3
   },
   "file_extension": ".py",
   "mimetype": "text/x-python",
   "name": "python",
   "nbconvert_exporter": "python",
   "pygments_lexer": "ipython3",
   "version": "3.9.1"
  }
 },
 "nbformat": 4,
 "nbformat_minor": 5
}
