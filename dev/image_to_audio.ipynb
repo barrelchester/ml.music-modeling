{
 "cells": [
  {
   "cell_type": "code",
   "execution_count": null,
   "id": "adjusted-shooting",
   "metadata": {},
   "outputs": [],
   "source": [
    "import sys"
   ]
  },
  {
   "cell_type": "code",
   "execution_count": null,
   "id": "touched-edgar",
   "metadata": {},
   "outputs": [],
   "source": [
    "#!{sys.executable} -m pip install pillow\n",
    "#!{sys.executable} -m pip install librosa"
   ]
  },
  {
   "cell_type": "code",
   "execution_count": null,
   "id": "extensive-advance",
   "metadata": {},
   "outputs": [],
   "source": [
    "import numpy as np\n",
    "import matplotlib.pyplot as plt\n",
    "import librosa\n",
    "import librosa.display\n",
    "\n",
    "import soundfile as sf\n",
    "\n",
    "from PIL import Image\n",
    "\n",
    "%matplotlib inline"
   ]
  },
  {
   "cell_type": "code",
   "execution_count": null,
   "id": "instant-bunny",
   "metadata": {},
   "outputs": [],
   "source": [
    "im_name = 'koch.png'\n",
    "im = Image.open(\"images/%s\" % im_name).convert('L')\n",
    "im_arr = np.array(im, dtype=np.float64)\n",
    "im_arr = np.flipud(im_arr)\n",
    "\n",
    "im_arr.shape"
   ]
  },
  {
   "cell_type": "code",
   "execution_count": null,
   "id": "optical-combination",
   "metadata": {},
   "outputs": [],
   "source": [
    "#view melspectrogram of the image\n",
    "fig, ax = plt.subplots(figsize=(16,8))\n",
    "im_arr_db = librosa.amplitude_to_db(im_arr, ref=np.max)\n",
    "img = librosa.display.specshow(im_arr_db, x_axis='time', y_axis='linear', ax=ax)\n",
    "fig.colorbar(img, ax=ax, format=\"%+2.f dB\")"
   ]
  },
  {
   "cell_type": "code",
   "execution_count": null,
   "id": "adjacent-engagement",
   "metadata": {},
   "outputs": [],
   "source": [
    "#melspectrogram to wav\n",
    "n_fft=2048\n",
    "n_iter=32\n",
    "sr=22050\n",
    "pic_x = librosa.feature.inverse.mel_to_audio(im_arr, sr=sr, n_fft=n_fft, n_iter=n_iter)\n",
    "sf.write('%s.wav' % im_name.split('.')[0], pic_x, sr, 'PCM_24')"
   ]
  }
 ],
 "metadata": {
  "kernelspec": {
   "display_name": "Python 3",
   "language": "python",
   "name": "python3"
  },
  "language_info": {
   "codemirror_mode": {
    "name": "ipython",
    "version": 3
   },
   "file_extension": ".py",
   "mimetype": "text/x-python",
   "name": "python",
   "nbconvert_exporter": "python",
   "pygments_lexer": "ipython3",
   "version": "3.9.1"
  }
 },
 "nbformat": 4,
 "nbformat_minor": 5
}
