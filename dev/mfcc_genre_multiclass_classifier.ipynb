{
 "cells": [
  {
   "cell_type": "markdown",
   "id": "c1f6b9a4",
   "metadata": {},
   "source": [
    "# K Nearest Neighbors classification"
   ]
  },
  {
   "cell_type": "markdown",
   "id": "f3892b48",
   "metadata": {},
   "source": [
    "1. Binary classification with KNN from sklearn\n",
    "2. Multi-class classifiction with KNN from sklearn\n",
    "3. Multi-class classification with KNN from scratch\n",
    "\n",
    "Sources:\n",
    "* https://towardsdatascience.com/how-to-apply-machine-learning-and-deep-learning-methods-to-audio-analysis-615e286fcbbc\n",
    "* https://www.analyticsvidhya.com/blog/2021/04/simple-understanding-and-implementation-of-knn-algorithm/\n",
    "* https://machinelearningmastery.com/tutorial-to-implement-k-nearest-neighbors-in-python-from-scratch/"
   ]
  },
  {
   "cell_type": "code",
   "execution_count": 43,
   "id": "equipped-memphis",
   "metadata": {},
   "outputs": [],
   "source": [
    "import sys, os, re, gzip, json, pickle, shutil, random, joblib, math\n",
    "\n",
    "import numpy as np\n",
    "import matplotlib.pyplot as plt\n",
    "\n",
    "import librosa\n",
    "import librosa.display\n",
    "\n",
    "from sklearn.model_selection import train_test_split\n",
    "\n",
    "%matplotlib inline\n",
    "%config IPCompleter.greedy=True\n",
    "%config Completer.use_jedi = False\n",
    "\n"
   ]
  },
  {
   "cell_type": "markdown",
   "id": "b512cd52",
   "metadata": {},
   "source": [
    "## Load in dataset with mapped genres. "
   ]
  },
  {
   "cell_type": "code",
   "execution_count": 2,
   "id": "liked-agriculture",
   "metadata": {},
   "outputs": [],
   "source": [
    "# paths\n",
    "metadata_path = 'C:/Users/mplat/OneDrive - Northeastern University/metadata.json.gz'\n",
    "genre_map_path = 'C:/Users/mplat/OneDrive - Northeastern University/genre_map.pkl'\n",
    "mfcc_path = 'C:/Users/mplat/OneDrive - Northeastern University/mfcc'"
   ]
  },
  {
   "cell_type": "code",
   "execution_count": 3,
   "id": "68cd364b",
   "metadata": {},
   "outputs": [
    {
     "data": {
      "text/plain": [
       "{'metal': 0, 'classical': 1}"
      ]
     },
     "execution_count": 3,
     "metadata": {},
     "output_type": "execute_result"
    }
   ],
   "source": [
    "# choose two binary genres to start\n",
    "binary_genres = ['metal', 'classical']\n",
    "lab_idx = {g:i for i,g in enumerate(binary_genres)}\n",
    "lab_idx"
   ]
  },
  {
   "cell_type": "code",
   "execution_count": 4,
   "id": "successful-criterion",
   "metadata": {
    "scrolled": true
   },
   "outputs": [
    {
     "name": "stdout",
     "output_type": "stream",
     "text": [
      "rock 13158\n",
      "metal 8782\n",
      "alternative 8778\n",
      "rap 5906\n",
      "dance 5624\n",
      "pop 4684\n",
      "jazz 4552\n",
      "hip_hop 4526\n",
      "experimental 3686\n",
      "other 3544\n",
      "world 2225\n",
      "electronic 2127\n",
      "folk 1804\n",
      "punk 1729\n",
      "blues 1472\n",
      "ambient 1299\n",
      "reggae 1114\n",
      "goth 722\n",
      "acoustic 678\n",
      "country 533\n",
      "house 512\n",
      "classical 486\n",
      "spiritual 369\n",
      "oldies 248\n",
      "progressive 221\n",
      "funk 142\n",
      "easy_listening 131\n",
      "spoken_word 130\n",
      "bluegrass 48\n",
      "industrial 44\n",
      "showtunes 38\n",
      "disco 23\n"
     ]
    }
   ],
   "source": [
    "# genre counts\n",
    "genre_cts = {}\n",
    "for genre in os.listdir(mfcc_path):\n",
    "    genre_path = '%s/%s' % (mfcc_path, genre)\n",
    "    if genre == 'desktop.ini':\n",
    "        continue\n",
    "    genre_cts[genre] = len(os.listdir(genre_path))\n",
    "    \n",
    "# number samples for genre that has min samples in binary list (out of metal adn classical)\n",
    "min_recs = min([genre_cts[g] for g in binary_genres])    \n",
    "\n",
    "# print counts for each genre\n",
    "for g in sorted(genre_cts, key=genre_cts.get, reverse=True):\n",
    "    print(g, genre_cts[g])"
   ]
  },
  {
   "cell_type": "code",
   "execution_count": 5,
   "id": "7ddfb287",
   "metadata": {},
   "outputs": [
    {
     "name": "stdout",
     "output_type": "stream",
     "text": [
      "['acoustic', 'alternative', 'ambient', 'bluegrass', 'blues', 'classical', 'country', 'dance', 'disco', 'easy_listening', 'electronic', 'experimental', 'folk', 'funk', 'goth', 'hip_hop', 'house', 'industrial', 'jazz', 'metal', 'oldies', 'other', 'pop', 'progressive', 'punk', 'rap', 'reggae', 'rock', 'showtunes', 'spiritual', 'spoken_word', 'world']\n"
     ]
    }
   ],
   "source": [
    "# get list of all 32 final genres\n",
    "genres = list(genre_cts.keys())\n",
    "print(genres)"
   ]
  },
  {
   "cell_type": "code",
   "execution_count": 6,
   "id": "organized-relative",
   "metadata": {},
   "outputs": [
    {
     "data": {
      "text/plain": [
       "('46/std_1f69563352d19cb0132334cd0d3adeaf.mp3',\n",
       " {'song_name': 'big_yellow_moon',\n",
       "  'artist_name': 'bill_nelson',\n",
       "  'mp3_zipname': '46',\n",
       "  'mp3_filename': 'std_1f69563352d19cb0132334cd0d3adeaf.mp3',\n",
       "  'genres': ['rock', 'electronica', 'alternative']})"
      ]
     },
     "execution_count": 6,
     "metadata": {},
     "output_type": "execute_result"
    }
   ],
   "source": [
    "# loading in the metadata and genre map\n",
    "# metadata not used in this model, but could be utilized, also has original genres before mapping\n",
    "with gzip.open(metadata_path, 'rt', encoding='utf-8') as fz:\n",
    "    metadata = json.load(fz)\n",
    "\n",
    "with open(genre_map_path, 'rb') as f:\n",
    "    genre_map = pickle.load(f)\n",
    "    \n",
    "#example metadata\n",
    "kys = list(metadata.keys())\n",
    "ky=kys[0]\n",
    "ky, metadata[ky]"
   ]
  },
  {
   "cell_type": "code",
   "execution_count": 7,
   "id": "cbbc4cd1",
   "metadata": {},
   "outputs": [
    {
     "data": {
      "text/plain": [
       "486"
      ]
     },
     "execution_count": 7,
     "metadata": {},
     "output_type": "execute_result"
    }
   ],
   "source": [
    "# show min recs (the samples we will take from each of the binary classes to \n",
    "# avoid imbalanced data)\n",
    "min_recs"
   ]
  },
  {
   "cell_type": "markdown",
   "id": "meaningful-laugh",
   "metadata": {},
   "source": [
    "## Feature Extraction\n",
    "\n",
    "First look at the mfcc lengths across the data in the two classes we are working with. Then, extract mfccs and process them (so they are all the same shape) to use as features. "
   ]
  },
  {
   "cell_type": "code",
   "execution_count": 8,
   "id": "scenic-sharing",
   "metadata": {},
   "outputs": [],
   "source": [
    "def get_mfcc_lengths(mfcc_path, genres, max_recs):\n",
    "    \n",
    "    # mfcc path --> where mfcc files are located by genre\n",
    "    # genres is list of geners we are working with\n",
    "    # should max recs be min recs??\n",
    "    \n",
    "    widths=[] # holds the lens of each np array (for each song) --> folumns\n",
    "    heights = [] # rows\n",
    "    \n",
    "    for genre in genres:\n",
    "        genre_path = '%s/%s' % (mfcc_path, genre) # get path to all song mfccs in current genre\n",
    "        ct = 0\n",
    "        file_errors = 0\n",
    "        for fn in os.listdir(genre_path): # for each song mfcc (only do as many songs as min genre so classes are even)\n",
    "            fp = '%s/%s' % (genre_path, fn) # path to mfcc\n",
    "            try:\n",
    "                mfcc = np.load(fp) # load the np file\n",
    "                widths.append(mfcc.shape[1]) # get the number of columns in the np array\n",
    "                heights.append(mfcc.shape[0]) # get heights of the np array\n",
    "                ct+=1\n",
    "            except:\n",
    "                file_errors += 1\n",
    "            if ct>=max_recs:\n",
    "                break\n",
    "            \n",
    "    # files that aren't loaded by onedrive won't read in\n",
    "    print('Missed files: ', file_errors)\n",
    "    l = np.array(widths)\n",
    "    h = np.array(heights)\n",
    "    \n",
    "    return l, h"
   ]
  },
  {
   "cell_type": "code",
   "execution_count": 9,
   "id": "robust-subject",
   "metadata": {
    "scrolled": true
   },
   "outputs": [
    {
     "name": "stdout",
     "output_type": "stream",
     "text": [
      "Missed files:  0\n",
      "Mean mfcc widths: 9853.0833, std: 4784.7813\n",
      "Mean mfcc height: 20.0000, std: 0.0000\n",
      "Height histogram\n"
     ]
    },
    {
     "data": {
      "image/png": "[encoded data removed]",
      "text/plain": [
       "<Figure size 432x288 with 1 Axes>"
      ]
     },
     "metadata": {
      "needs_background": "light"
     },
     "output_type": "display_data"
    }
   ],
   "source": [
    "l, h = get_mfcc_lengths(mfcc_path, binary_genres, min_recs)\n",
    "\n",
    "print('Mean mfcc widths: %.4f, std: %.4f' % (l.mean(), l.std())) #11098.8838, std: 4614.7522\n",
    "print('Mean mfcc height: %.4f, std: %.4f' % (h.mean(), h.std())) #11098.8838, std: 4614.7522\n",
    "\n",
    "print('Height histogram')\n",
    "plt.hist(l, bins=100, density=True)\n",
    "plt.show()"
   ]
  },
  {
   "cell_type": "code",
   "execution_count": 10,
   "id": "08383063",
   "metadata": {},
   "outputs": [
    {
     "name": "stdout",
     "output_type": "stream",
     "text": [
      "Max mfcc width:  47614\n",
      "Max mfcc height:  20\n"
     ]
    }
   ],
   "source": [
    "print('Max mfcc width: ', l.max())\n",
    "print('Max mfcc height: ', h.max())"
   ]
  },
  {
   "cell_type": "code",
   "execution_count": 11,
   "id": "66f1740e",
   "metadata": {},
   "outputs": [],
   "source": [
    "def shuffle_data(x, y):\n",
    "    idx = np.arange(x.shape[0])\n",
    "    np.random.shuffle(idx)\n",
    "    x = x[idx]\n",
    "    y = y[idx]\n",
    "    \n",
    "    return x, y\n",
    "\n",
    "\n",
    "def normalize_data(x):\n",
    "    return (x-x.mean())/x.std()\n",
    "\n",
    "\n",
    "def get_mfccs(mfcc_path, genres, lab_idx, max_recs):\n",
    "    '''\n",
    "    Open and process mfcc and return as x and y arrays.\n",
    "    '''\n",
    "    \n",
    "    # save all x and y values\n",
    "    mfccs = []\n",
    "    y=[]\n",
    "    i = 0\n",
    "    \n",
    "    # loop over each genre we are working with\n",
    "    for genre in genres:\n",
    "        \n",
    "        # extract path to all song mfccs in current genre\n",
    "        genre_path = '%s/%s' % (mfcc_path, genre)\n",
    "        ct = 0\n",
    "        \n",
    "        # loop over each mfcc in current genre\n",
    "        for fn in os.listdir(genre_path): \n",
    "            \n",
    "            i += 1\n",
    "            # get path to mfcc\n",
    "            fp = '%s/%s' % (genre_path, fn)\n",
    "            \n",
    "            # load mfcc and transpose/take mean\n",
    "            mfcc = np.load(fp) \n",
    "            mfcc = np.mean(mfcc.T,axis=0)\n",
    "            mfccs.append(mfcc)\n",
    "            \n",
    "            # append target label to list\n",
    "            y.append(lab_idx[genre])\n",
    "            \n",
    "            # for creating balanced dataset\n",
    "            ct+=1\n",
    "            if ct>=max_recs: \n",
    "                break\n",
    "           \n",
    "    # normalize data and create arrays\n",
    "    x = np.array(mfccs)\n",
    "    x = normalize_data(x)\n",
    "    y = np.array(y)\n",
    "    \n",
    "    return shuffle_data(x, y)"
   ]
  },
  {
   "cell_type": "code",
   "execution_count": 12,
   "id": "b70762ed",
   "metadata": {},
   "outputs": [
    {
     "data": {
      "text/plain": [
       "((972, 20), (972,))"
      ]
     },
     "execution_count": 12,
     "metadata": {},
     "output_type": "execute_result"
    }
   ],
   "source": [
    "# 972 samples, 20 features per sample\n",
    "x, y = get_mfccs(mfcc_path, binary_genres, lab_idx, min_recs)\n",
    "x.shape, y.shape"
   ]
  },
  {
   "cell_type": "code",
   "execution_count": 13,
   "id": "92bdcd75",
   "metadata": {},
   "outputs": [],
   "source": [
    "# split into train and test sets\n",
    "x_train, x_test, y_train, y_test = train_test_split(x, y, test_size=0.2, random_state=42)"
   ]
  },
  {
   "cell_type": "code",
   "execution_count": 14,
   "id": "40a774a8",
   "metadata": {},
   "outputs": [
    {
     "name": "stdout",
     "output_type": "stream",
     "text": [
      "training:  (777, 20) (777,)\n",
      "testing:  (195, 20) (195,)\n"
     ]
    }
   ],
   "source": [
    "print('training: ', x_train.shape, y_train.shape)\n",
    "print('testing: ', x_test.shape, y_test.shape)"
   ]
  },
  {
   "cell_type": "markdown",
   "id": "6e64b5e9",
   "metadata": {},
   "source": [
    "## KNN Model (sklearn library)\n",
    "\n",
    "### Binary classification"
   ]
  },
  {
   "cell_type": "code",
   "execution_count": 15,
   "id": "2468eaec",
   "metadata": {},
   "outputs": [],
   "source": [
    "from sklearn.neighbors import KNeighborsClassifier \n",
    "from sklearn import metrics\n",
    "from sklearn.metrics import classification_report"
   ]
  },
  {
   "cell_type": "code",
   "execution_count": 16,
   "id": "8fc43378",
   "metadata": {},
   "outputs": [],
   "source": [
    "# choose the best value of k\n",
    "# The K value when test error stabilizes and is low is considered as optimal value for K\n",
    "\n",
    "def choose_k_value():\n",
    "# choose the best value of k\n",
    "# The K value when test error stabilizes and is low is considered as optimal value for K\n",
    "\n",
    "    train_errors = []\n",
    "    test_errors = []\n",
    "\n",
    "    # use values of k 1-15\n",
    "    for k in range(1,15):\n",
    "\n",
    "        # create and fit classifier\n",
    "        knn= KNeighborsClassifier(n_neighbors=k)\n",
    "        knn.fit(x_train, y_train)\n",
    "\n",
    "        # predict with x_train\n",
    "        y_pred_train= knn.predict(x_train)\n",
    "        train_errors.append(np.mean(y_train != y_pred_train))\n",
    "\n",
    "        # predict with x_test\n",
    "        y_pred_test = knn.predict(x_test)\n",
    "        test_errors.append(np.mean(y_test!= y_pred_test))\n",
    "\n",
    "    # plt.figure(figsize(10,5))\n",
    "    plt.plot(range(1,15), train_errors, label=\"Error from training data\")\n",
    "    plt.plot(range(1,15), test_errors, label=\"Error from testing data\")\n",
    "    plt.xlabel('k Value')\n",
    "    plt.ylabel('Error')\n",
    "    plt.legend()\n"
   ]
  },
  {
   "cell_type": "code",
   "execution_count": 17,
   "id": "40e5f9a5",
   "metadata": {},
   "outputs": [
    {
     "data": {
      "image/png": "[encoded data removed]",
      "text/plain": [
       "<Figure size 432x288 with 1 Axes>"
      ]
     },
     "metadata": {
      "needs_background": "light"
     },
     "output_type": "display_data"
    }
   ],
   "source": [
    "choose_k_value()"
   ]
  },
  {
   "cell_type": "code",
   "execution_count": 18,
   "id": "8a0503df",
   "metadata": {},
   "outputs": [
    {
     "data": {
      "text/plain": [
       "0.9282051282051282"
      ]
     },
     "execution_count": 18,
     "metadata": {},
     "output_type": "execute_result"
    }
   ],
   "source": [
    "# choose 7 for optimal value of k, as that is around when test error decreases and starts to stabilize\n",
    "# 7 is also lowest test error value\n",
    "\n",
    "knn= KNeighborsClassifier(n_neighbors=7)\n",
    "knn.fit(x_train, y_train)\n",
    "y_pred= knn.predict(x_test)\n",
    "metrics.accuracy_score(y_test,y_pred) #.93"
   ]
  },
  {
   "cell_type": "code",
   "execution_count": 19,
   "id": "2f27ea46",
   "metadata": {
    "scrolled": true
   },
   "outputs": [
    {
     "name": "stdout",
     "output_type": "stream",
     "text": [
      "              precision    recall  f1-score   support\n",
      "\n",
      "           0       0.94      0.92      0.93        99\n",
      "           1       0.92      0.94      0.93        96\n",
      "\n",
      "    accuracy                           0.93       195\n",
      "   macro avg       0.93      0.93      0.93       195\n",
      "weighted avg       0.93      0.93      0.93       195\n",
      "\n"
     ]
    }
   ],
   "source": [
    "print(classification_report(y_test, y_pred))"
   ]
  },
  {
   "cell_type": "markdown",
   "id": "49d0bc18",
   "metadata": {},
   "source": [
    "### Multiclass classification\n",
    "\n",
    "For simplicity, I will only use the top 5 classes and balance the dataset by using x sample from each class, where x is the number of samples in the smallest class. This will avoid having to deal with imbalanced data, but will also allow us to look at multi-class classification. The top 5 classes are:\n",
    "\n",
    "* rock 13158\n",
    "* metal 8782\n",
    "* alternative 8778\n",
    "* rap 5906\n",
    "* dance 5624"
   ]
  },
  {
   "cell_type": "code",
   "execution_count": 20,
   "id": "8bd7f335",
   "metadata": {},
   "outputs": [
    {
     "name": "stdout",
     "output_type": "stream",
     "text": [
      "['rock', 'metal', 'alternative', 'rap', 'dance']\n"
     ]
    }
   ],
   "source": [
    "top_5_genres = ['rock', 'metal', 'alternative', 'rap', 'dance']\n",
    "print(top_5_genres)"
   ]
  },
  {
   "cell_type": "code",
   "execution_count": 21,
   "id": "b440208c",
   "metadata": {},
   "outputs": [
    {
     "name": "stdout",
     "output_type": "stream",
     "text": [
      "{'rock': 0, 'metal': 1, 'alternative': 2, 'rap': 3, 'dance': 4}\n"
     ]
    }
   ],
   "source": [
    "lab_idx = {g:i for i,g in enumerate(top_5_genres)}\n",
    "print(lab_idx)"
   ]
  },
  {
   "cell_type": "code",
   "execution_count": 22,
   "id": "648b19bd",
   "metadata": {},
   "outputs": [
    {
     "data": {
      "text/plain": [
       "5624"
      ]
     },
     "execution_count": 22,
     "metadata": {},
     "output_type": "execute_result"
    }
   ],
   "source": [
    "min_recs = min([genre_cts[g] for g in top_5_genres]) \n",
    "min_recs"
   ]
  },
  {
   "cell_type": "code",
   "execution_count": 45,
   "id": "c45f9289",
   "metadata": {},
   "outputs": [
    {
     "name": "stdout",
     "output_type": "stream",
     "text": [
      "Missed files:  0\n",
      "Mean mfcc widths: 10256.8103, std: 4335.2332\n",
      "Mean mfcc height: 20.0000, std: 0.0000\n",
      "Height histogram\n"
     ]
    },
    {
     "data": {
      "image/png": "[encoded data removed]",
      "text/plain": [
       "<Figure size 432x288 with 1 Axes>"
      ]
     },
     "metadata": {
      "needs_background": "light"
     },
     "output_type": "display_data"
    }
   ],
   "source": [
    "# get the mfcc lengths\n",
    "l, h = get_mfcc_lengths(mfcc_path, top_5_genres, min_recs)\n",
    "\n",
    "print('Mean mfcc widths: %.4f, std: %.4f' % (l.mean(), l.std())) #11098.8838, std: 4614.7522\n",
    "print('Mean mfcc height: %.4f, std: %.4f' % (h.mean(), h.std())) #11098.8838, std: 4614.7522\n",
    "\n",
    "print('Height histogram')\n",
    "plt.hist(l, bins=100, density=True)\n",
    "plt.show()"
   ]
  },
  {
   "cell_type": "code",
   "execution_count": 46,
   "id": "fd873c72",
   "metadata": {},
   "outputs": [
    {
     "name": "stdout",
     "output_type": "stream",
     "text": [
      "Max mfcc width:  103101\n",
      "Max mfcc height:  20\n"
     ]
    }
   ],
   "source": [
    "print('Max mfcc width: ', l.max())\n",
    "print('Max mfcc height: ', h.max())"
   ]
  },
  {
   "cell_type": "code",
   "execution_count": 48,
   "id": "8e334c15",
   "metadata": {},
   "outputs": [],
   "source": [
    "# save l and h in a pickle (takes a long time to run)\n",
    "w_file = open('mfcc_widths_top_5_genres', 'ab')\n",
    "pickle.dump(l, w_file)  \n",
    "w_file.close()\n",
    "\n",
    "h_file = open('mfcc_heights_top_5_genres', 'ab')\n",
    "pickle.dump(h, h_file) \n",
    "h_file.close()"
   ]
  },
  {
   "cell_type": "code",
   "execution_count": 23,
   "id": "86f1f54b",
   "metadata": {},
   "outputs": [
    {
     "data": {
      "text/plain": [
       "28120"
      ]
     },
     "execution_count": 23,
     "metadata": {},
     "output_type": "execute_result"
    }
   ],
   "source": [
    "# should be this many samples\n",
    "5624 * 5"
   ]
  },
  {
   "cell_type": "code",
   "execution_count": 24,
   "id": "ac7f5602",
   "metadata": {},
   "outputs": [
    {
     "data": {
      "text/plain": [
       "((28120, 20), (28120,))"
      ]
     },
     "execution_count": 24,
     "metadata": {},
     "output_type": "execute_result"
    }
   ],
   "source": [
    "# ((28120, 20), (28120,))\n",
    "x, y = get_mfccs(mfcc_path, top_5_genres, lab_idx, min_recs)\n",
    "x.shape, y.shape"
   ]
  },
  {
   "cell_type": "code",
   "execution_count": 25,
   "id": "35b6efca",
   "metadata": {},
   "outputs": [],
   "source": [
    "# save x and y in a pickle (takes a long time to run)\n",
    "x_file = open('mfcc_x_top_5_genres', 'ab')\n",
    "pickle.dump(x, x_file)  \n",
    "x_file.close()\n",
    "\n",
    "y_file = open('mfcc_y_top_5_genres', 'ab')\n",
    "pickle.dump(y, y_file) \n",
    "y_file.close()"
   ]
  },
  {
   "cell_type": "code",
   "execution_count": 26,
   "id": "45d34020",
   "metadata": {},
   "outputs": [],
   "source": [
    "# split into train and test sets\n",
    "x_train, x_test, y_train, y_test = train_test_split(x, y, test_size=0.2, random_state=42)"
   ]
  },
  {
   "cell_type": "code",
   "execution_count": 27,
   "id": "f240488a",
   "metadata": {},
   "outputs": [
    {
     "name": "stdout",
     "output_type": "stream",
     "text": [
      "training:  (22496, 20) (22496,)\n",
      "testing:  (5624, 20) (5624,)\n"
     ]
    }
   ],
   "source": [
    "print('training: ', x_train.shape, y_train.shape)\n",
    "print('testing: ', x_test.shape, y_test.shape)"
   ]
  },
  {
   "cell_type": "code",
   "execution_count": 28,
   "id": "3e29942f",
   "metadata": {},
   "outputs": [
    {
     "data": {
      "image/png": "[encoded data removed]",
      "text/plain": [
       "<Figure size 432x288 with 1 Axes>"
      ]
     },
     "metadata": {
      "needs_background": "light"
     },
     "output_type": "display_data"
    }
   ],
   "source": [
    "# choose best value of k\n",
    "choose_k_value()"
   ]
  },
  {
   "cell_type": "code",
   "execution_count": 30,
   "id": "00590b74",
   "metadata": {},
   "outputs": [
    {
     "data": {
      "text/plain": [
       "0.4880867709815078"
      ]
     },
     "execution_count": 30,
     "metadata": {},
     "output_type": "execute_result"
    }
   ],
   "source": [
    "# it still looks like 14 is the best value of k to use\n",
    "knn= KNeighborsClassifier(n_neighbors=14)\n",
    "knn.fit(x_train, y_train)\n",
    "y_pred= knn.predict(x_test)\n",
    "metrics.accuracy_score(y_test,y_pred) #.49"
   ]
  },
  {
   "cell_type": "code",
   "execution_count": 31,
   "id": "fcf5d07f",
   "metadata": {
    "scrolled": true
   },
   "outputs": [
    {
     "name": "stdout",
     "output_type": "stream",
     "text": [
      "              precision    recall  f1-score   support\n",
      "\n",
      "           0       0.33      0.38      0.36      1129\n",
      "           1       0.61      0.63      0.62      1129\n",
      "           2       0.38      0.34      0.36      1093\n",
      "           3       0.63      0.55      0.59      1161\n",
      "           4       0.50      0.53      0.52      1112\n",
      "\n",
      "    accuracy                           0.49      5624\n",
      "   macro avg       0.49      0.49      0.49      5624\n",
      "weighted avg       0.49      0.49      0.49      5624\n",
      "\n"
     ]
    }
   ],
   "source": [
    "print(classification_report(y_test, y_pred))"
   ]
  },
  {
   "cell_type": "markdown",
   "id": "e6bd480d",
   "metadata": {},
   "source": [
    "Overall, performance is not excellent. It is best with predicting class 1 (metal) and class 3 (rap). Perhaps more features would help. It's also notable that the genres chosen are pretty close together and not so clear cut (i.e., a song could be considered both rock and alternative by a human rater). I'll now choose 5 genres that I would consider more diverse. \n",
    "\n",
    "* rock 13158\n",
    "* jazz 4552\n",
    "* rap 5906\n",
    "* pop 4684\n",
    "* hip_hop 4526\n",
    "\n"
   ]
  },
  {
   "cell_type": "code",
   "execution_count": 32,
   "id": "36bced8e",
   "metadata": {},
   "outputs": [
    {
     "name": "stdout",
     "output_type": "stream",
     "text": [
      "['rock', 'jazz', 'rap', 'pop', 'hip_hop']\n"
     ]
    }
   ],
   "source": [
    "diverse_genres = ['rock', 'jazz', 'rap', 'pop', 'hip_hop']\n",
    "print(diverse_genres)"
   ]
  },
  {
   "cell_type": "code",
   "execution_count": 33,
   "id": "5e3756f1",
   "metadata": {},
   "outputs": [
    {
     "name": "stdout",
     "output_type": "stream",
     "text": [
      "{'rock': 0, 'jazz': 1, 'rap': 2, 'pop': 3, 'hip_hop': 4}\n"
     ]
    }
   ],
   "source": [
    "lab_idx = {g:i for i,g in enumerate(diverse_genres)}\n",
    "print(lab_idx)"
   ]
  },
  {
   "cell_type": "code",
   "execution_count": 34,
   "id": "271ed5db",
   "metadata": {},
   "outputs": [
    {
     "data": {
      "text/plain": [
       "4526"
      ]
     },
     "execution_count": 34,
     "metadata": {},
     "output_type": "execute_result"
    }
   ],
   "source": [
    "min_recs = min([genre_cts[g] for g in diverse_genres]) \n",
    "min_recs"
   ]
  },
  {
   "cell_type": "code",
   "execution_count": 35,
   "id": "e8e47ece",
   "metadata": {},
   "outputs": [
    {
     "data": {
      "text/plain": [
       "22630"
      ]
     },
     "execution_count": 35,
     "metadata": {},
     "output_type": "execute_result"
    }
   ],
   "source": [
    "# we should have this many total samples\n",
    "4526 * 5"
   ]
  },
  {
   "cell_type": "code",
   "execution_count": 36,
   "id": "b113cd05",
   "metadata": {},
   "outputs": [
    {
     "data": {
      "text/plain": [
       "((22630, 20), (22630,))"
      ]
     },
     "execution_count": 36,
     "metadata": {},
     "output_type": "execute_result"
    }
   ],
   "source": [
    "x, y = get_mfccs(mfcc_path, diverse_genres, lab_idx, min_recs)\n",
    "x.shape, y.shape # ((22630, 20), (22630,))"
   ]
  },
  {
   "cell_type": "code",
   "execution_count": 37,
   "id": "ff2b68b3",
   "metadata": {},
   "outputs": [],
   "source": [
    "# save x and y in a pickle (takes a long time to run)\n",
    "x_file = open('mfcc_x_diverse', 'ab')\n",
    "pickle.dump(x, x_file)  \n",
    "x_file.close()\n",
    "\n",
    "y_file = open('mfcc_y_diverse', 'ab')\n",
    "pickle.dump(y, y_file) \n",
    "y_file.close()"
   ]
  },
  {
   "cell_type": "code",
   "execution_count": 38,
   "id": "63b67803",
   "metadata": {},
   "outputs": [],
   "source": [
    "# split into train and test sets\n",
    "x_train, x_test, y_train, y_test = train_test_split(x, y, test_size=0.2, random_state=42)"
   ]
  },
  {
   "cell_type": "code",
   "execution_count": 39,
   "id": "6fa15d9b",
   "metadata": {},
   "outputs": [
    {
     "name": "stdout",
     "output_type": "stream",
     "text": [
      "training:  (18104, 20) (18104,)\n",
      "testing:  (4526, 20) (4526,)\n"
     ]
    }
   ],
   "source": [
    "print('training: ', x_train.shape, y_train.shape)\n",
    "print('testing: ', x_test.shape, y_test.shape)"
   ]
  },
  {
   "cell_type": "code",
   "execution_count": 40,
   "id": "b39364b0",
   "metadata": {},
   "outputs": [
    {
     "data": {
      "image/png": "[encoded data removed]",
      "text/plain": [
       "<Figure size 432x288 with 1 Axes>"
      ]
     },
     "metadata": {
      "needs_background": "light"
     },
     "output_type": "display_data"
    }
   ],
   "source": [
    "# choose best value of k\n",
    "choose_k_value()"
   ]
  },
  {
   "cell_type": "code",
   "execution_count": 41,
   "id": "9f5ccf8c",
   "metadata": {},
   "outputs": [
    {
     "data": {
      "text/plain": [
       "0.377817057003977"
      ]
     },
     "execution_count": 41,
     "metadata": {},
     "output_type": "execute_result"
    }
   ],
   "source": [
    "# looks like around k=14 is where the test error levels out\n",
    "knn= KNeighborsClassifier(n_neighbors=14)\n",
    "knn.fit(x_train, y_train)\n",
    "y_pred= knn.predict(x_test)\n",
    "metrics.accuracy_score(y_test, y_pred) "
   ]
  },
  {
   "cell_type": "code",
   "execution_count": 42,
   "id": "b91454f8",
   "metadata": {},
   "outputs": [
    {
     "name": "stdout",
     "output_type": "stream",
     "text": [
      "              precision    recall  f1-score   support\n",
      "\n",
      "           0       0.42      0.51      0.46       913\n",
      "           1       0.37      0.44      0.40       941\n",
      "           2       0.45      0.45      0.45       934\n",
      "           3       0.31      0.26      0.28       891\n",
      "           4       0.29      0.21      0.25       847\n",
      "\n",
      "    accuracy                           0.38      4526\n",
      "   macro avg       0.37      0.37      0.37      4526\n",
      "weighted avg       0.37      0.38      0.37      4526\n",
      "\n"
     ]
    }
   ],
   "source": [
    "print(classification_report(y_test, y_pred))"
   ]
  },
  {
   "cell_type": "markdown",
   "id": "2224a60c",
   "metadata": {},
   "source": [
    "Accuracy actually decreased with this group of classes. The class best classifier were class 0 (rock) and class 2 (rap). Perhaps, time permitting, we will try to improve the model by adding/replacing the mfcc features. "
   ]
  },
  {
   "cell_type": "markdown",
   "id": "1028a6fb",
   "metadata": {},
   "source": [
    "## KNN Model (from scratch)"
   ]
  },
  {
   "cell_type": "code",
   "execution_count": 118,
   "id": "c68400c8",
   "metadata": {},
   "outputs": [],
   "source": [
    "import statistics\n",
    "from statistics import mode\n",
    "from heapq import nlargest"
   ]
  },
  {
   "cell_type": "code",
   "execution_count": 124,
   "id": "4ebeb0b3",
   "metadata": {},
   "outputs": [],
   "source": [
    "def calculate_distance(x_1, x_2):\n",
    "    '''\n",
    "    Calculate the distance between one sample and another sample\n",
    "    '''\n",
    "    return np.sqrt(np.sum(np.square(x_1-x_2)))\n",
    "\n",
    "def calculate_nearest_neightbors(current_sample, k):\n",
    "    '''\n",
    "    Calculate distances between a sample and all other samples, to find the k closest samples.\n",
    "    '''\n",
    "    all_distances = {} # i is the compared training sample : distance to current test sample\n",
    "    for i in range(len(x_train)):\n",
    "        temp_distance = calculate_distance(current_sample, x_train[i])\n",
    "        all_distances[i] = temp_distance\n",
    "        \n",
    "    nn_indices = nlargest(k, all_distances, key=all_distances.get)\n",
    "            \n",
    "    return nn_indices\n",
    "        \n",
    "def predict(k):\n",
    "    \n",
    "    # store predictions for each test sample here\n",
    "    predictions = []\n",
    "    \n",
    "    # for each test sample...\n",
    "    for i in range(len(x_test)):\n",
    "        \n",
    "        # get the train samples that it is nearest\n",
    "        temp_nn_indicies = calculate_nearest_neightbors(x_test[i], k) # [ (idx_of_sample, [sample]), ... ]\n",
    "        \n",
    "        # use the index to look up the sample in the training data, and get the target value\n",
    "        temp_preds = []\n",
    "        for j in range(len(temp_nn_indicies)):\n",
    "            current_index = temp_nn_indicies[j]\n",
    "            temp_preds.append(y_train[current_index])\n",
    "        \n",
    "        # find the most frequent class that the sample was near in the training data (this is the prediction)\n",
    "        predictions.append(mode(temp_preds))\n",
    "        \n",
    "    return predictions\n",
    "    "
   ]
  },
  {
   "cell_type": "markdown",
   "id": "e9ba29b0",
   "metadata": {},
   "source": [
    "Compare implementation from scratch performance to that from sklearn libraries. "
   ]
  },
  {
   "cell_type": "code",
   "execution_count": 135,
   "id": "0a8835ab",
   "metadata": {},
   "outputs": [
    {
     "data": {
      "text/plain": [
       "['metal', 'classical']"
      ]
     },
     "execution_count": 135,
     "metadata": {},
     "output_type": "execute_result"
    }
   ],
   "source": [
    "binary_genres"
   ]
  },
  {
   "cell_type": "code",
   "execution_count": 128,
   "id": "65440f87",
   "metadata": {},
   "outputs": [],
   "source": [
    "lab_idx = {g:i for i,g in enumerate(binary_genres)}\n",
    "min_recs = min([genre_cts[g] for g in binary_genres]) "
   ]
  },
  {
   "cell_type": "code",
   "execution_count": 129,
   "id": "3cfbb7dc",
   "metadata": {},
   "outputs": [
    {
     "data": {
      "text/plain": [
       "((972, 20), (972,))"
      ]
     },
     "execution_count": 129,
     "metadata": {},
     "output_type": "execute_result"
    }
   ],
   "source": [
    "x, y = get_mfccs(mfcc_path, binary_genres, lab_idx, min_recs)\n",
    "x.shape, y.shape"
   ]
  },
  {
   "cell_type": "code",
   "execution_count": 130,
   "id": "91bc791e",
   "metadata": {},
   "outputs": [],
   "source": [
    "x_train, x_test, y_train, y_test = train_test_split(x, y, test_size=0.2, random_state=42)"
   ]
  },
  {
   "cell_type": "code",
   "execution_count": 142,
   "id": "b9ea72e2",
   "metadata": {},
   "outputs": [],
   "source": [
    "y_preds = predict(7)"
   ]
  },
  {
   "cell_type": "code",
   "execution_count": 143,
   "id": "65ae2344",
   "metadata": {},
   "outputs": [
    {
     "data": {
      "text/plain": [
       "0.22564102564102564"
      ]
     },
     "execution_count": 143,
     "metadata": {},
     "output_type": "execute_result"
    }
   ],
   "source": [
    "metrics.accuracy_score(y_test, y_preds) "
   ]
  },
  {
   "cell_type": "code",
   "execution_count": 144,
   "id": "7e03bd70",
   "metadata": {},
   "outputs": [
    {
     "name": "stdout",
     "output_type": "stream",
     "text": [
      "              precision    recall  f1-score   support\n",
      "\n",
      "           0       0.00      0.00      0.00       104\n",
      "           1       0.30      0.48      0.37        91\n",
      "\n",
      "    accuracy                           0.23       195\n",
      "   macro avg       0.15      0.24      0.18       195\n",
      "weighted avg       0.14      0.23      0.17       195\n",
      "\n"
     ]
    }
   ],
   "source": [
    "print(classification_report(y_test, y_preds))"
   ]
  },
  {
   "cell_type": "code",
   "execution_count": null,
   "id": "c8d30d5b",
   "metadata": {},
   "outputs": [],
   "source": []
  }
 ],
 "metadata": {
  "kernelspec": {
   "display_name": "Python 3 (ipykernel)",
   "language": "python",
   "name": "python3"
  },
  "language_info": {
   "codemirror_mode": {
    "name": "ipython",
    "version": 3
   },
   "file_extension": ".py",
   "mimetype": "text/x-python",
   "name": "python",
   "nbconvert_exporter": "python",
   "pygments_lexer": "ipython3",
   "version": "3.8.5"
  }
 },
 "nbformat": 4,
 "nbformat_minor": 5
}
