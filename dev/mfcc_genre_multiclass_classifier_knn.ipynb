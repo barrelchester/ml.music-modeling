{
 "cells": [
  {
   "cell_type": "markdown",
   "id": "c1f6b9a4",
   "metadata": {},
   "source": [
    "# K Nearest Neighbors (KNN) classification"
   ]
  },
  {
   "cell_type": "markdown",
   "id": "f3892b48",
   "metadata": {},
   "source": [
    "1. Binary classification with KNN from sklearn\n",
    "2. Multi-class classifiction with KNN from sklearn\n",
    "3. Multi-class classification with KNN from scratch\n",
    "\n",
    "Sources:\n",
    "* https://towardsdatascience.com/how-to-apply-machine-learning-and-deep-learning-methods-to-audio-analysis-615e286fcbbc\n",
    "* https://www.analyticsvidhya.com/blog/2021/04/simple-understanding-and-implementation-of-knn-algorithm/\n",
    "* https://machinelearningmastery.com/tutorial-to-implement-k-nearest-neighbors-in-python-from-scratch/\n",
    "https://towardsdatascience.com/how-to-build-knn-from-scratch-in-python-5e22b8920bd2"
   ]
  },
  {
   "cell_type": "code",
   "execution_count": 1,
   "id": "equipped-memphis",
   "metadata": {},
   "outputs": [],
   "source": [
    "import sys, os, re, gzip, json, pickle, shutil, random, joblib, math\n",
    "\n",
    "import numpy as np\n",
    "import matplotlib.pyplot as plt\n",
    "\n",
    "import librosa\n",
    "import librosa.display\n",
    "\n",
    "from sklearn.model_selection import train_test_split\n",
    "\n",
    "%matplotlib inline\n",
    "%config IPCompleter.greedy=True\n",
    "%config Completer.use_jedi = False\n",
    "\n"
   ]
  },
  {
   "cell_type": "markdown",
   "id": "b512cd52",
   "metadata": {},
   "source": [
    "## Load in dataset with mapped genres. "
   ]
  },
  {
   "cell_type": "code",
   "execution_count": 2,
   "id": "liked-agriculture",
   "metadata": {},
   "outputs": [],
   "source": [
    "# paths\n",
    "metadata_path = 'C:/Users/tianyi/Northeastern University/Machine Learning Final Project - Music Classification - Documents/myspace_mp3s/metadata.json.gz'\n",
    "genre_map_path = 'C:/Users/tianyi/Northeastern University/Machine Learning Final Project - Music Classification - Documents/myspace_mp3s/genre_map.pkl'\n",
    "mfcc_path = 'C:/Users/tianyi/Northeastern University/Machine Learning Final Project - Music Classification - Documents/audio_features/mfcc'"
   ]
  },
  {
   "cell_type": "code",
   "execution_count": 3,
   "id": "68cd364b",
   "metadata": {},
   "outputs": [
    {
     "data": {
      "text/plain": [
       "{'metal': 0, 'classical': 1}"
      ]
     },
     "execution_count": 3,
     "metadata": {},
     "output_type": "execute_result"
    }
   ],
   "source": [
    "# choose two binary genres to use for binary classifier\n",
    "binary_genres = ['metal', 'classical']\n",
    "lab_idx = {g:i for i,g in enumerate(binary_genres)}\n",
    "lab_idx"
   ]
  },
  {
   "cell_type": "code",
   "execution_count": 4,
   "id": "successful-criterion",
   "metadata": {
    "scrolled": true
   },
   "outputs": [
    {
     "name": "stdout",
     "output_type": "stream",
     "text": [
      "rock 13158\n",
      "metal 8782\n",
      "alternative 8778\n",
      "rap 5906\n",
      "dance 5624\n",
      "pop 4684\n",
      "jazz 4552\n",
      "hip_hop 4526\n",
      "experimental 3686\n",
      "other 3544\n",
      "world 2225\n",
      "electronic 2127\n",
      "folk 1804\n",
      "punk 1729\n",
      "blues 1472\n",
      "ambient 1299\n",
      "reggae 1114\n",
      "goth 722\n",
      "acoustic 678\n",
      "country 533\n",
      "house 512\n",
      "classical 486\n",
      "spiritual 369\n",
      "oldies 248\n",
      "progressive 221\n",
      "funk 142\n",
      "easy_listening 131\n",
      "spoken_word 130\n",
      "bluegrass 48\n",
      "industrial 44\n",
      "showtunes 38\n",
      "disco 23\n"
     ]
    }
   ],
   "source": [
    "# genre counts (# samples per genre)\n",
    "genre_cts = {}\n",
    "for genre in os.listdir(mfcc_path):\n",
    "    genre_path = '%s/%s' % (mfcc_path, genre)\n",
    "    if genre == 'desktop.ini':\n",
    "        continue\n",
    "    genre_cts[genre] = len(os.listdir(genre_path))\n",
    "    \n",
    "# number samples for genre that has min samples in binary list (out of metal and classical)\n",
    "min_recs = min([genre_cts[g] for g in binary_genres])    \n",
    "\n",
    "# print counts for each genre\n",
    "for g in sorted(genre_cts, key=genre_cts.get, reverse=True):\n",
    "    print(g, genre_cts[g])"
   ]
  },
  {
   "cell_type": "code",
   "execution_count": 5,
   "id": "7ddfb287",
   "metadata": {
    "scrolled": true
   },
   "outputs": [
    {
     "name": "stdout",
     "output_type": "stream",
     "text": [
      "['acoustic', 'alternative', 'ambient', 'bluegrass', 'blues', 'classical', 'country', 'dance', 'disco', 'easy_listening', 'electronic', 'experimental', 'folk', 'funk', 'goth', 'hip_hop', 'house', 'industrial', 'jazz', 'metal', 'oldies', 'other', 'pop', 'progressive', 'punk', 'rap', 'reggae', 'rock', 'showtunes', 'spiritual', 'spoken_word', 'world']\n"
     ]
    }
   ],
   "source": [
    "# get list of all 32 final genres\n",
    "genres = list(genre_cts.keys())\n",
    "print(genres)"
   ]
  },
  {
   "cell_type": "code",
   "execution_count": 6,
   "id": "organized-relative",
   "metadata": {},
   "outputs": [
    {
     "data": {
      "text/plain": [
       "('46/std_1f69563352d19cb0132334cd0d3adeaf.mp3',\n",
       " {'song_name': 'big_yellow_moon',\n",
       "  'artist_name': 'bill_nelson',\n",
       "  'mp3_zipname': '46',\n",
       "  'mp3_filename': 'std_1f69563352d19cb0132334cd0d3adeaf.mp3',\n",
       "  'genres': ['rock', 'electronica', 'alternative']})"
      ]
     },
     "execution_count": 6,
     "metadata": {},
     "output_type": "execute_result"
    }
   ],
   "source": [
    "# loading in the metadata and genre map\n",
    "# metadata not used in this model; has original genres before mapping\n",
    "with gzip.open(metadata_path, 'rt', encoding='utf-8') as fz:\n",
    "    metadata = json.load(fz)\n",
    "\n",
    "with open(genre_map_path, 'rb') as f:\n",
    "    genre_map = pickle.load(f)\n",
    "    \n",
    "#example metadata\n",
    "kys = list(metadata.keys())\n",
    "ky=kys[0]\n",
    "ky, metadata[ky]"
   ]
  },
  {
   "cell_type": "code",
   "execution_count": 7,
   "id": "cbbc4cd1",
   "metadata": {},
   "outputs": [
    {
     "data": {
      "text/plain": [
       "486"
      ]
     },
     "execution_count": 7,
     "metadata": {},
     "output_type": "execute_result"
    }
   ],
   "source": [
    "# show min recs (the samples we will take from each of the binary classes to \n",
    "# avoid imbalanced data)\n",
    "min_recs"
   ]
  },
  {
   "cell_type": "markdown",
   "id": "meaningful-laugh",
   "metadata": {},
   "source": [
    "## Feature Extraction\n",
    "\n",
    "First look at the mfcc lengths across the data in the two classes we are working with. Then, extract mfccs and process them (so they are all the same shape) to use as features. "
   ]
  },
  {
   "cell_type": "code",
   "execution_count": 8,
   "id": "scenic-sharing",
   "metadata": {},
   "outputs": [],
   "source": [
    "def get_mfcc_lengths(mfcc_path, genres, max_recs):\n",
    "    '''\n",
    "        Gets the lengths of each mfcc file (one per song) across \n",
    "        each genre that we are working with. \n",
    "        \n",
    "        mfcc_path: path to mfcc files (currently on OneDrive)\n",
    "        genres: list of genres we are working with (coudl be binary or multi)\n",
    "        max_recs: the genre that has the least number of samples\n",
    "    '''\n",
    "    \n",
    "    widths=[] # holds the lens of each np array (for each song) --> columns\n",
    "    heights = [] # rows\n",
    "    \n",
    "    for genre in genres:\n",
    "        genre_path = '%s/%s' % (mfcc_path, genre) # get path to all song mfccs in current genre\n",
    "        ct = 0\n",
    "        file_errors = 0\n",
    "        for fn in os.listdir(genre_path): # for each song mfcc (only do as many songs as min genre so classes are even)\n",
    "            fp = '%s/%s' % (genre_path, fn) # path to mfcc\n",
    "            try:\n",
    "                mfcc = np.load(fp) # load the np file\n",
    "                widths.append(mfcc.shape[1]) # get the number of columns in the np array\n",
    "                heights.append(mfcc.shape[0]) # get heights of the np array\n",
    "                ct+=1\n",
    "            except:\n",
    "                file_errors += 1\n",
    "            if ct>=max_recs:\n",
    "                break\n",
    "            \n",
    "    # files that aren't loaded by onedrive won't read in (should be 0)\n",
    "    print('Missed files: ', file_errors)\n",
    "    l = np.array(widths)\n",
    "    h = np.array(heights)\n",
    "    \n",
    "    return l, h"
   ]
  },
  {
   "cell_type": "code",
   "execution_count": 9,
   "id": "robust-subject",
   "metadata": {
    "scrolled": true
   },
   "outputs": [
    {
     "name": "stdout",
     "output_type": "stream",
     "text": [
      "Missed files:  0\n",
      "Mean mfcc widths: 9853.0833, std: 4784.7813\n",
      "Mean mfcc height: 20.0000, std: 0.0000\n",
      "\n",
      "\n",
      "\n",
      "Width Histogram for Metal and Classical Genres\n"
     ]
    },
    {
     "data": {
      "image/png": "[encoded data removed]",
      "text/plain": [
       "<Figure size 432x288 with 1 Axes>"
      ]
     },
     "metadata": {
      "needs_background": "light"
     },
     "output_type": "display_data"
    }
   ],
   "source": [
    "l, h = get_mfcc_lengths(mfcc_path, binary_genres, min_recs)\n",
    "\n",
    "print('Mean mfcc widths: %.4f, std: %.4f' % (l.mean(), l.std())) #11098.8838, std: 4614.7522\n",
    "print('Mean mfcc height: %.4f, std: %.4f' % (h.mean(), h.std())) #11098.8838, std: 4614.7522\n",
    "print('\\n\\n')\n",
    "print('Width Histogram for Metal and Classical Genres')\n",
    "plt.hist(l, bins=100, density=True)\n",
    "plt.show()"
   ]
  },
  {
   "cell_type": "code",
   "execution_count": 10,
   "id": "08383063",
   "metadata": {},
   "outputs": [
    {
     "name": "stdout",
     "output_type": "stream",
     "text": [
      "Max mfcc width:  47614\n",
      "Max mfcc height:  20\n"
     ]
    }
   ],
   "source": [
    "print('Max mfcc width: ', l.max())\n",
    "print('Max mfcc height: ', h.max())"
   ]
  },
  {
   "cell_type": "code",
   "execution_count": 11,
   "id": "66f1740e",
   "metadata": {},
   "outputs": [],
   "source": [
    "def shuffle_data(x, y):\n",
    "    '''\n",
    "    Shuffles x and y data. \n",
    "    '''\n",
    "    idx = np.arange(x.shape[0])\n",
    "    np.random.shuffle(idx)\n",
    "    x = x[idx]\n",
    "    y = y[idx]\n",
    "    \n",
    "    return x, y\n",
    "\n",
    "\n",
    "def normalize_data(x):\n",
    "    '''\n",
    "    Normalizes x data. \n",
    "    '''\n",
    "    return (x-x.mean())/x.std()\n",
    "\n",
    "\n",
    "def get_mfccs(mfcc_path, genres, lab_idx, max_recs):\n",
    "    '''\n",
    "    Open and process mfcc and return as x and y arrays.\n",
    "    '''\n",
    "    \n",
    "    # save all x and y values\n",
    "    mfccs = []\n",
    "    y=[]\n",
    "    i = 0\n",
    "    \n",
    "    # loop over each genre we are working with\n",
    "    for genre in genres:\n",
    "        \n",
    "        # extract path to all song mfccs in current genre\n",
    "        genre_path = '%s/%s' % (mfcc_path, genre)\n",
    "        ct = 0\n",
    "        \n",
    "        # loop over each mfcc in current genre\n",
    "        for fn in os.listdir(genre_path): \n",
    "            \n",
    "            i += 1\n",
    "            # get path to mfcc\n",
    "            fp = '%s/%s' % (genre_path, fn)\n",
    "            \n",
    "            # load mfcc and transpose/take mean\n",
    "            mfcc = np.load(fp) \n",
    "            mfcc = np.mean(mfcc.T,axis=0)\n",
    "            mfccs.append(mfcc)\n",
    "            \n",
    "            # append target label to list\n",
    "            y.append(lab_idx[genre])\n",
    "            \n",
    "            # for creating balanced dataset\n",
    "            ct+=1\n",
    "            if ct>=max_recs: \n",
    "                break\n",
    "           \n",
    "    # normalize data and create arrays\n",
    "    x = np.array(mfccs)\n",
    "    x = normalize_data(x)\n",
    "    y = np.array(y)\n",
    "    \n",
    "    return shuffle_data(x, y)"
   ]
  },
  {
   "cell_type": "code",
   "execution_count": 12,
   "id": "b70762ed",
   "metadata": {},
   "outputs": [
    {
     "data": {
      "text/plain": [
       "((972, 20), (972,))"
      ]
     },
     "execution_count": 12,
     "metadata": {},
     "output_type": "execute_result"
    }
   ],
   "source": [
    "# 972 samples, 20 features per sample for Metal and Classical\n",
    "x, y = get_mfccs(mfcc_path, binary_genres, lab_idx, min_recs)\n",
    "x.shape, y.shape"
   ]
  },
  {
   "cell_type": "code",
   "execution_count": 13,
   "id": "92bdcd75",
   "metadata": {},
   "outputs": [],
   "source": [
    "# split into train and test sets\n",
    "x_train, x_test, y_train, y_test = train_test_split(x, y, test_size=0.2, random_state=42)"
   ]
  },
  {
   "cell_type": "code",
   "execution_count": 14,
   "id": "40a774a8",
   "metadata": {},
   "outputs": [
    {
     "name": "stdout",
     "output_type": "stream",
     "text": [
      "training:  (777, 20) (777,)\n",
      "testing:  (195, 20) (195,)\n"
     ]
    }
   ],
   "source": [
    "print('training: ', x_train.shape, y_train.shape)\n",
    "print('testing: ', x_test.shape, y_test.shape)"
   ]
  },
  {
   "cell_type": "markdown",
   "id": "6e64b5e9",
   "metadata": {},
   "source": [
    "## KNN Model (sklearn library)\n",
    "\n",
    "### Binary classification\n",
    "\n",
    "This binary classifier will classify two genres selected at random: Metal (0) and Classical (1). "
   ]
  },
  {
   "cell_type": "code",
   "execution_count": 15,
   "id": "2468eaec",
   "metadata": {},
   "outputs": [],
   "source": [
    "from sklearn.neighbors import KNeighborsClassifier \n",
    "from sklearn import metrics\n",
    "from sklearn.metrics import classification_report\n",
    "from sklearn.metrics import confusion_matrix, ConfusionMatrixDisplay"
   ]
  },
  {
   "cell_type": "code",
   "execution_count": 16,
   "id": "8fc43378",
   "metadata": {},
   "outputs": [],
   "source": [
    "# choose the best value of k\n",
    "# The K value when test error stabilizes and is low is considered as optimal value for K\n",
    "\n",
    "def choose_k_value():\n",
    "    '''\n",
    "    Displays error for each value of k between 1 and 15, plot can then be\n",
    "    examined to select the best value of k. \n",
    "    '''\n",
    "\n",
    "    train_errors = []\n",
    "    test_errors = []\n",
    "\n",
    "    # use values of k 1-15\n",
    "    for k in range(1,15):\n",
    "\n",
    "        # create and fit classifier\n",
    "        knn= KNeighborsClassifier(n_neighbors=k)\n",
    "        knn.fit(x_train, y_train)\n",
    "\n",
    "        # predict with x_train\n",
    "        y_pred_train= knn.predict(x_train)\n",
    "        train_errors.append(np.mean(y_train != y_pred_train))\n",
    "\n",
    "        # predict with x_test\n",
    "        y_pred_test = knn.predict(x_test)\n",
    "        test_errors.append(np.mean(y_test!= y_pred_test))\n",
    "\n",
    "    plt.plot(range(1,15), train_errors, label=\"Error from training data\")\n",
    "    plt.plot(range(1,15), test_errors, label=\"Error from testing data\")\n",
    "    plt.xlabel('k Value')\n",
    "    plt.ylabel('Error')\n",
    "    plt.legend()\n"
   ]
  },
  {
   "cell_type": "code",
   "execution_count": 17,
   "id": "40e5f9a5",
   "metadata": {},
   "outputs": [
    {
     "name": "stdout",
     "output_type": "stream",
     "text": [
      "Error for each k value for binary classification (Metal and Classical)\n"
     ]
    },
    {
     "data": {
      "image/png": "[encoded data removed]",
      "text/plain": [
       "<Figure size 432x288 with 1 Axes>"
      ]
     },
     "metadata": {
      "needs_background": "light"
     },
     "output_type": "display_data"
    }
   ],
   "source": [
    "print('Error for each k value for binary classification (Metal and Classical)')\n",
    "choose_k_value()"
   ]
  },
  {
   "cell_type": "code",
   "execution_count": 18,
   "id": "8a0503df",
   "metadata": {},
   "outputs": [
    {
     "data": {
      "text/plain": [
       "0.9076923076923077"
      ]
     },
     "execution_count": 18,
     "metadata": {},
     "output_type": "execute_result"
    }
   ],
   "source": [
    "# It looks like k=3 has the lowest error (for test data), but it starts to level off around 10 or 11 (and then dips)\n",
    "# down again around 14.\n",
    "# I will choose 11 since this is where k seems most level. \n",
    "\n",
    "knn= KNeighborsClassifier(n_neighbors=11)\n",
    "knn.fit(x_train, y_train)\n",
    "y_pred= knn.predict(x_test)\n",
    "metrics.accuracy_score(y_test,y_pred) #.88"
   ]
  },
  {
   "cell_type": "code",
   "execution_count": 19,
   "id": "2f27ea46",
   "metadata": {
    "scrolled": true
   },
   "outputs": [
    {
     "name": "stdout",
     "output_type": "stream",
     "text": [
      "              precision    recall  f1-score   support\n",
      "\n",
      "           0       0.90      0.94      0.92       108\n",
      "           1       0.92      0.87      0.89        87\n",
      "\n",
      "    accuracy                           0.91       195\n",
      "   macro avg       0.91      0.90      0.91       195\n",
      "weighted avg       0.91      0.91      0.91       195\n",
      "\n"
     ]
    }
   ],
   "source": [
    "# The f1 scores are similar for each class, which means the model does a nice job of classifying songs between\n",
    "# metal and classical genres. \n",
    "\n",
    "print(classification_report(y_test, y_pred))"
   ]
  },
  {
   "cell_type": "code",
   "execution_count": 20,
   "id": "25fa0344",
   "metadata": {},
   "outputs": [
    {
     "data": {
      "image/png": "[encoded data removed]",
      "text/plain": [
       "<Figure size 432x288 with 2 Axes>"
      ]
     },
     "metadata": {
      "needs_background": "light"
     },
     "output_type": "display_data"
    }
   ],
   "source": [
    "cm = confusion_matrix(y_test, y_pred, labels=knn.classes_)\n",
    "disp = ConfusionMatrixDisplay(confusion_matrix=cm,display_labels=knn.classes_)\n",
    "disp.plot()\n",
    "plt.show()\n",
    "\n",
    "# {'metal': 0, 'classical': 1}"
   ]
  },
  {
   "cell_type": "markdown",
   "id": "49d0bc18",
   "metadata": {},
   "source": [
    "### Multiclass classification\n",
    "\n",
    "To start, I will only use the top 5 classes and balance the dataset by using x samples from each class, where x is the number of samples in the smallest class. This will avoid having to deal with imbalanced data, but will also allow us to look at multi-class classification. The top 5 classes are:\n",
    "\n",
    "* rock 13158\n",
    "* metal 8782\n",
    "* alternative 8778\n",
    "* rap 5906\n",
    "* dance 5624"
   ]
  },
  {
   "cell_type": "code",
   "execution_count": 21,
   "id": "8bd7f335",
   "metadata": {},
   "outputs": [
    {
     "name": "stdout",
     "output_type": "stream",
     "text": [
      "['rock', 'metal', 'alternative', 'rap', 'dance']\n"
     ]
    }
   ],
   "source": [
    "top_5_genres = ['rock', 'metal', 'alternative', 'rap', 'dance']\n",
    "print(top_5_genres)"
   ]
  },
  {
   "cell_type": "code",
   "execution_count": 22,
   "id": "b440208c",
   "metadata": {},
   "outputs": [
    {
     "name": "stdout",
     "output_type": "stream",
     "text": [
      "{'rock': 0, 'metal': 1, 'alternative': 2, 'rap': 3, 'dance': 4}\n"
     ]
    }
   ],
   "source": [
    "lab_idx = {g:i for i,g in enumerate(top_5_genres)}\n",
    "print(lab_idx)"
   ]
  },
  {
   "cell_type": "code",
   "execution_count": 23,
   "id": "648b19bd",
   "metadata": {},
   "outputs": [
    {
     "data": {
      "text/plain": [
       "5624"
      ]
     },
     "execution_count": 23,
     "metadata": {},
     "output_type": "execute_result"
    }
   ],
   "source": [
    "min_recs = min([genre_cts[g] for g in top_5_genres]) \n",
    "min_recs"
   ]
  },
  {
   "cell_type": "code",
   "execution_count": 24,
   "id": "c45f9289",
   "metadata": {},
   "outputs": [
    {
     "name": "stdout",
     "output_type": "stream",
     "text": [
      "Missed files:  0\n",
      "Mean mfcc widths: 10256.8103, std: 4335.2332\n",
      "Mean mfcc height: 20.0000, std: 0.0000\n",
      "Width histogram for mfccs in top 5 genres\n"
     ]
    },
    {
     "data": {
      "image/png": "[encoded data removed]",
      "text/plain": [
       "<Figure size 432x288 with 1 Axes>"
      ]
     },
     "metadata": {
      "needs_background": "light"
     },
     "output_type": "display_data"
    }
   ],
   "source": [
    "# get the mfcc lengths\n",
    "l, h = get_mfcc_lengths(mfcc_path, top_5_genres, min_recs)\n",
    "\n",
    "print('Mean mfcc widths: %.4f, std: %.4f' % (l.mean(), l.std())) #11098.8838, std: 4614.7522\n",
    "print('Mean mfcc height: %.4f, std: %.4f' % (h.mean(), h.std())) #11098.8838, std: 4614.7522\n",
    "\n",
    "print('Width histogram for mfccs in top 5 genres')\n",
    "plt.hist(l, bins=100, density=True)\n",
    "plt.show()"
   ]
  },
  {
   "cell_type": "code",
   "execution_count": 25,
   "id": "fd873c72",
   "metadata": {},
   "outputs": [
    {
     "name": "stdout",
     "output_type": "stream",
     "text": [
      "Max mfcc width:  103101\n",
      "Max mfcc height:  20\n"
     ]
    }
   ],
   "source": [
    "print('Max mfcc width: ', l.max())\n",
    "print('Max mfcc height: ', h.max())"
   ]
  },
  {
   "cell_type": "code",
   "execution_count": 26,
   "id": "8e334c15",
   "metadata": {},
   "outputs": [],
   "source": [
    "# save l and h in a pickle\n",
    "w_file = open('mfcc_widths_top_5_genres', 'ab')\n",
    "pickle.dump(l, w_file)  \n",
    "w_file.close()\n",
    "\n",
    "h_file = open('mfcc_heights_top_5_genres', 'ab')\n",
    "pickle.dump(h, h_file) \n",
    "h_file.close()"
   ]
  },
  {
   "cell_type": "code",
   "execution_count": 27,
   "id": "86f1f54b",
   "metadata": {},
   "outputs": [
    {
     "data": {
      "text/plain": [
       "28120"
      ]
     },
     "execution_count": 27,
     "metadata": {},
     "output_type": "execute_result"
    }
   ],
   "source": [
    "# should be this many samples\n",
    "5624 * 5"
   ]
  },
  {
   "cell_type": "code",
   "execution_count": 28,
   "id": "ac7f5602",
   "metadata": {},
   "outputs": [
    {
     "data": {
      "text/plain": [
       "((28120, 20), (28120,))"
      ]
     },
     "execution_count": 28,
     "metadata": {},
     "output_type": "execute_result"
    }
   ],
   "source": [
    "# ((28120, 20), (28120,))\n",
    "x, y = get_mfccs(mfcc_path, top_5_genres, lab_idx, min_recs)\n",
    "x.shape, y.shape"
   ]
  },
  {
   "cell_type": "code",
   "execution_count": 29,
   "id": "35b6efca",
   "metadata": {},
   "outputs": [],
   "source": [
    "# save x and y in a pickle\n",
    "\n",
    "# x_file = open('mfcc_x_top_5_genres', 'ab')\n",
    "# pickle.dump(x, x_file)  \n",
    "# x_file.close()\n",
    "\n",
    "# y_file = open('mfcc_y_top_5_genres', 'ab')\n",
    "# pickle.dump(y, y_file) \n",
    "# y_file.close()"
   ]
  },
  {
   "cell_type": "code",
   "execution_count": 30,
   "id": "b4582b21",
   "metadata": {},
   "outputs": [
    {
     "ename": "FileNotFoundError",
     "evalue": "[Errno 2] No such file or directory: 'mfcc_x_top_5_genres'",
     "output_type": "error",
     "traceback": [
      "\u001b[1;31m---------------------------------------------------------------------------\u001b[0m",
      "\u001b[1;31mFileNotFoundError\u001b[0m                         Traceback (most recent call last)",
      "\u001b[1;32m~\\AppData\\Local\\Temp/ipykernel_15976/2181109256.py\u001b[0m in \u001b[0;36m<module>\u001b[1;34m\u001b[0m\n\u001b[0;32m      1\u001b[0m \u001b[1;31m# open pickle\u001b[0m\u001b[1;33m\u001b[0m\u001b[1;33m\u001b[0m\u001b[0m\n\u001b[1;32m----> 2\u001b[1;33m \u001b[0mx_infile\u001b[0m \u001b[1;33m=\u001b[0m \u001b[0mopen\u001b[0m\u001b[1;33m(\u001b[0m\u001b[1;34m'mfcc_x_top_5_genres'\u001b[0m\u001b[1;33m,\u001b[0m\u001b[1;34m'rb'\u001b[0m\u001b[1;33m)\u001b[0m\u001b[1;33m\u001b[0m\u001b[1;33m\u001b[0m\u001b[0m\n\u001b[0m\u001b[0;32m      3\u001b[0m \u001b[0mx\u001b[0m \u001b[1;33m=\u001b[0m \u001b[0mpickle\u001b[0m\u001b[1;33m.\u001b[0m\u001b[0mload\u001b[0m\u001b[1;33m(\u001b[0m\u001b[0mx_infile\u001b[0m\u001b[1;33m)\u001b[0m\u001b[1;33m\u001b[0m\u001b[1;33m\u001b[0m\u001b[0m\n\u001b[0;32m      4\u001b[0m \u001b[0mx_infile\u001b[0m\u001b[1;33m.\u001b[0m\u001b[0mclose\u001b[0m\u001b[1;33m(\u001b[0m\u001b[1;33m)\u001b[0m\u001b[1;33m\u001b[0m\u001b[1;33m\u001b[0m\u001b[0m\n\u001b[0;32m      5\u001b[0m \u001b[1;33m\u001b[0m\u001b[0m\n",
      "\u001b[1;31mFileNotFoundError\u001b[0m: [Errno 2] No such file or directory: 'mfcc_x_top_5_genres'"
     ]
    }
   ],
   "source": [
    "# open pickle\n",
    "x_infile = open('mfcc_x_top_5_genres','rb')\n",
    "x = pickle.load(x_infile)\n",
    "x_infile.close()\n",
    "\n",
    "y_infile = open('mfcc_y_top_5_genres','rb')\n",
    "y = pickle.load(y_infile)\n",
    "y_infile.close()"
   ]
  },
  {
   "cell_type": "code",
   "execution_count": null,
   "id": "45d34020",
   "metadata": {},
   "outputs": [],
   "source": [
    "# split into train and test sets\n",
    "x_train, x_test, y_train, y_test = train_test_split(x, y, test_size=0.2, random_state=42)"
   ]
  },
  {
   "cell_type": "code",
   "execution_count": null,
   "id": "f240488a",
   "metadata": {},
   "outputs": [],
   "source": [
    "print('training: ', x_train.shape, y_train.shape)\n",
    "print('testing: ', x_test.shape, y_test.shape)"
   ]
  },
  {
   "cell_type": "code",
   "execution_count": null,
   "id": "3e29942f",
   "metadata": {},
   "outputs": [],
   "source": [
    "# choose best value of k\n",
    "choose_k_value()"
   ]
  },
  {
   "cell_type": "code",
   "execution_count": null,
   "id": "00590b74",
   "metadata": {},
   "outputs": [],
   "source": [
    "# it still looks like 12 is the best value of k to use\n",
    "\n",
    "knn= KNeighborsClassifier(n_neighbors=12)\n",
    "knn.fit(x_train, y_train)\n",
    "y_pred= knn.predict(x_test)\n",
    "metrics.accuracy_score(y_test,y_pred) #.47"
   ]
  },
  {
   "cell_type": "code",
   "execution_count": null,
   "id": "fcf5d07f",
   "metadata": {
    "scrolled": true
   },
   "outputs": [],
   "source": [
    "print(classification_report(y_test, y_pred))"
   ]
  },
  {
   "cell_type": "code",
   "execution_count": null,
   "id": "b0108f5f",
   "metadata": {},
   "outputs": [],
   "source": [
    "cm = confusion_matrix(y_test, y_pred, labels=knn.classes_)\n",
    "disp = ConfusionMatrixDisplay(confusion_matrix=cm,display_labels=knn.classes_)\n",
    "disp.plot()\n",
    "plt.show()\n",
    "\n",
    "# {'rock': 0, 'metal': 1, 'alternative': 2, 'rap': 3, 'dance': 4}\n",
    "# Performance is best with predicting class 1 (metal) and class 3 (rap)"
   ]
  },
  {
   "cell_type": "markdown",
   "id": "1028a6fb",
   "metadata": {},
   "source": [
    "## KNN Model (from scratch)\n",
    "\n",
    "Below is an implementation of the KNN model from scratch (without sklearn libraries). This is done for the purposes of comparing it to the sklearn model performance. "
   ]
  },
  {
   "cell_type": "code",
   "execution_count": null,
   "id": "c68400c8",
   "metadata": {},
   "outputs": [],
   "source": [
    "import statistics\n",
    "from statistics import mode\n",
    "from heapq import nlargest"
   ]
  },
  {
   "cell_type": "code",
   "execution_count": null,
   "id": "4ebeb0b3",
   "metadata": {},
   "outputs": [],
   "source": [
    "def calculate_distance(x_1, x_2):\n",
    "    '''\n",
    "    Calculate the distance between one sample and another sample\n",
    "    '''\n",
    "    return np.sqrt(np.sum(np.square(x_1-x_2)))\n",
    "\n",
    "def calculate_nearest_neightbors(current_sample, k):\n",
    "    '''\n",
    "    Calculate distances between a sample and all other samples, to find the k closest samples.\n",
    "    '''\n",
    "    all_distances = {} # i is the compared training sample : distance to current test sample\n",
    "    for i in range(len(x_train)):\n",
    "        temp_distance = calculate_distance(current_sample, x_train[i])\n",
    "        all_distances[i] = temp_distance\n",
    "        \n",
    "    nn_indices = nlargest(k, all_distances, key=all_distances.get)\n",
    "            \n",
    "    return nn_indices\n",
    "        \n",
    "def predict(k):\n",
    "    \n",
    "    # store predictions for each test sample here\n",
    "    predictions = []\n",
    "    \n",
    "    # for each test sample...\n",
    "    for i in range(len(x_test)):\n",
    "        \n",
    "        # get the train samples that it is nearest\n",
    "        temp_nn_indicies = calculate_nearest_neightbors(x_test[i], k) # [ (idx_of_sample, [sample]), ... ]\n",
    "        \n",
    "        # use the index to look up the sample in the training data, and get the target value\n",
    "        temp_preds = []\n",
    "        for j in range(len(temp_nn_indicies)):\n",
    "            current_index = temp_nn_indicies[j]\n",
    "            temp_preds.append(y_train[current_index])\n",
    "        \n",
    "        # find the most frequent class that the sample was near in the training data (this is the prediction)\n",
    "        predictions.append(mode(temp_preds))\n",
    "        \n",
    "    return predictions\n",
    "    "
   ]
  },
  {
   "cell_type": "code",
   "execution_count": null,
   "id": "b86ffac6",
   "metadata": {},
   "outputs": [],
   "source": [
    "y_preds = predict(12)"
   ]
  },
  {
   "cell_type": "code",
   "execution_count": null,
   "id": "fa5a7343",
   "metadata": {},
   "outputs": [],
   "source": [
    "metrics.accuracy_score(y_test, y_preds) "
   ]
  },
  {
   "cell_type": "code",
   "execution_count": null,
   "id": "70e419d0",
   "metadata": {},
   "outputs": [],
   "source": [
    "print(classification_report(y_test, y_preds))"
   ]
  },
  {
   "cell_type": "markdown",
   "id": "901819bd",
   "metadata": {},
   "source": [
    "## Full Multi-class Classification\n",
    "\n",
    "As a last step, I'll build a classifier for the full multi-class classification of all 32 mapped genres. In order to account for the imbalance in data, I'll use use an undersampling method from The imbalanced-learn developers's RandomUnderSampler which uses scikit-learn. \n",
    "\n",
    "Source: https://imbalanced-learn.org/stable/references/generated/imblearn.under_sampling.RandomUnderSampler.html"
   ]
  },
  {
   "cell_type": "code",
   "execution_count": null,
   "id": "d66cb80e",
   "metadata": {},
   "outputs": [],
   "source": [
    "from imblearn.under_sampling import RandomUnderSampler\n",
    "from sklearn.decomposition import PCA\n",
    "from sklearn.preprocessing import StandardScaler\n",
    "\n",
    "import seaborn as sns\n",
    "sns.set()"
   ]
  },
  {
   "cell_type": "code",
   "execution_count": null,
   "id": "c1ac522e",
   "metadata": {},
   "outputs": [],
   "source": [
    "genres = list(genre_cts.keys())\n",
    "print(genres)"
   ]
  },
  {
   "cell_type": "code",
   "execution_count": null,
   "id": "cf2d0679",
   "metadata": {},
   "outputs": [],
   "source": [
    "lab_idx = {g:i for i,g in enumerate(genres)}\n",
    "print(lab_idx)"
   ]
  },
  {
   "cell_type": "code",
   "execution_count": null,
   "id": "9c7df9df",
   "metadata": {},
   "outputs": [],
   "source": [
    "# below is a version of the get_mfccs() function from earlier, but without the max_recs cut off, as we\n",
    "# will be using a different method for dealing with the imbalnace in data. \n",
    "\n",
    "def get_mfccs_all(mfcc_path, genres, lab_idx):\n",
    "    '''\n",
    "    Open and process mfcc and return as x and y arrays.\n",
    "    '''\n",
    "    \n",
    "    # save all x and y values\n",
    "    mfccs = []\n",
    "    y=[]\n",
    "    i = 0\n",
    "    \n",
    "    # loop over each genre we are working with\n",
    "    for genre in genres:\n",
    "        print(\"genre: \", genre)\n",
    "        \n",
    "        # extract path to all song mfccs in current genre\n",
    "        genre_path = '%s/%s' % (mfcc_path, genre)\n",
    "        ct = 0\n",
    "        \n",
    "        # loop over each mfcc in current genre\n",
    "        for fn in os.listdir(genre_path): \n",
    "            \n",
    "            i += 1\n",
    "            # get path to mfcc\n",
    "            fp = '%s/%s' % (genre_path, fn)\n",
    "            \n",
    "            # load mfcc and transpose/take mean\n",
    "            mfcc = np.load(fp) \n",
    "            mfcc = np.mean(mfcc.T,axis=0)\n",
    "            if np.isnan(np.sum(mfcc)):\n",
    "                print('Error with mfcc file')\n",
    "                continue\n",
    "            else:\n",
    "                mfccs.append(mfcc)\n",
    "            \n",
    "            # append target label to list\n",
    "            y.append(lab_idx[genre])\n",
    "           \n",
    "    # normalize data and create arrays\n",
    "    x = np.array(mfccs)\n",
    "    #x = normalize_data(x) # error with normalizing, will scale later\n",
    "    y = np.array(y)\n",
    "    \n",
    "    return shuffle_data(x, y)"
   ]
  },
  {
   "cell_type": "code",
   "execution_count": null,
   "id": "30a0c1c6",
   "metadata": {},
   "outputs": [],
   "source": [
    "x, y = get_mfccs_all(mfcc_path, genres, lab_idx)\n",
    "x.shape, y.shape"
   ]
  },
  {
   "cell_type": "code",
   "execution_count": null,
   "id": "cdf0db73",
   "metadata": {},
   "outputs": [],
   "source": [
    "# check that all data is there\n",
    "sum(genre_cts.values())"
   ]
  },
  {
   "cell_type": "code",
   "execution_count": null,
   "id": "c8d30d5b",
   "metadata": {},
   "outputs": [],
   "source": [
    "# save x and y in a pickle\n",
    "\n",
    "x_file_all = open('mfcc_x_all', 'ab')\n",
    "pickle.dump(x, x_file_all)  \n",
    "x_file_all.close()\n",
    "\n",
    "y_file_all = open('mfcc_y_all', 'ab')\n",
    "pickle.dump(y, y_file_all) \n",
    "y_file_all.close()"
   ]
  },
  {
   "cell_type": "code",
   "execution_count": null,
   "id": "d912a63e",
   "metadata": {},
   "outputs": [],
   "source": [
    "# use principle component analysis to visualize the undersampling \n",
    "pca = PCA(n_components=2)\n",
    "x_vis = pca.fit_transform(x)"
   ]
  },
  {
   "cell_type": "code",
   "execution_count": null,
   "id": "e54b4752",
   "metadata": {},
   "outputs": [],
   "source": [
    "#random under-sampling\n",
    "rus = RandomUnderSampler()\n",
    "x_resampled, y_resampled = rus.fit_resample(x, y)\n",
    "x_resampled_vis = pca.transform(x_resampled)"
   ]
  },
  {
   "cell_type": "code",
   "execution_count": null,
   "id": "e30093e9",
   "metadata": {},
   "outputs": [],
   "source": [
    "# we now have a total of 736 samples\n",
    "x_resampled.shape, y_resampled.shape"
   ]
  },
  {
   "cell_type": "code",
   "execution_count": 1,
   "id": "698ea6dd",
   "metadata": {
    "scrolled": true
   },
   "outputs": [
    {
     "ename": "NameError",
     "evalue": "name 'sns' is not defined",
     "output_type": "error",
     "traceback": [
      "\u001b[1;31m---------------------------------------------------------------------------\u001b[0m",
      "\u001b[1;31mNameError\u001b[0m                                 Traceback (most recent call last)",
      "\u001b[1;32m~\\AppData\\Local\\Temp/ipykernel_464/1949065671.py\u001b[0m in \u001b[0;36m<module>\u001b[1;34m\u001b[0m\n\u001b[0;32m      3\u001b[0m \u001b[1;33m\u001b[0m\u001b[0m\n\u001b[0;32m      4\u001b[0m \u001b[0malmost_black\u001b[0m \u001b[1;33m=\u001b[0m \u001b[1;34m'#262626'\u001b[0m\u001b[1;33m\u001b[0m\u001b[1;33m\u001b[0m\u001b[0m\n\u001b[1;32m----> 5\u001b[1;33m \u001b[0mpalette\u001b[0m \u001b[1;33m=\u001b[0m \u001b[0msns\u001b[0m\u001b[1;33m.\u001b[0m\u001b[0mcolor_palette\u001b[0m\u001b[1;33m(\u001b[0m\u001b[1;33m)\u001b[0m\u001b[1;33m\u001b[0m\u001b[1;33m\u001b[0m\u001b[0m\n\u001b[0m\u001b[0;32m      6\u001b[0m \u001b[1;33m\u001b[0m\u001b[0m\n\u001b[0;32m      7\u001b[0m \u001b[0mf\u001b[0m\u001b[1;33m,\u001b[0m \u001b[1;33m(\u001b[0m\u001b[0max1\u001b[0m\u001b[1;33m,\u001b[0m \u001b[0max2\u001b[0m\u001b[1;33m)\u001b[0m \u001b[1;33m=\u001b[0m \u001b[0mplt\u001b[0m\u001b[1;33m.\u001b[0m\u001b[0msubplots\u001b[0m\u001b[1;33m(\u001b[0m\u001b[1;36m1\u001b[0m\u001b[1;33m,\u001b[0m \u001b[1;36m2\u001b[0m\u001b[1;33m,\u001b[0m \u001b[0mfigsize\u001b[0m\u001b[1;33m=\u001b[0m\u001b[1;33m(\u001b[0m\u001b[1;36m10\u001b[0m\u001b[1;33m,\u001b[0m\u001b[1;36m7\u001b[0m\u001b[1;33m)\u001b[0m\u001b[1;33m)\u001b[0m\u001b[1;33m\u001b[0m\u001b[1;33m\u001b[0m\u001b[0m\n",
      "\u001b[1;31mNameError\u001b[0m: name 'sns' is not defined"
     ]
    }
   ],
   "source": [
    "# plot the x and x_resampled data (only plotting Acoustic, Alternative, Ambient, & Metal so it is easier to read plot)\n",
    "# plotting code derived from code given in CS 6220 Data Mining course at NEU. \n",
    "\n",
    "almost_black = '#262626'\n",
    "palette = sns.color_palette()\n",
    "\n",
    "f, (ax1, ax2) = plt.subplots(1, 2, figsize=(10,7))\n",
    "\n",
    "ax1.scatter(x_vis[y == 0, 0], x_vis[y == 0, 1], label=\"Acoustic\", alpha=0.5,\n",
    "            edgecolor=almost_black, facecolor=palette[0], linewidth=0.15)\n",
    "ax1.scatter(x_vis[y == 1, 0], x_vis[y == 1, 1], label=\"Alternative\", alpha=0.5,\n",
    "            edgecolor=almost_black, facecolor=palette[1], linewidth=0.15)\n",
    "ax1.scatter(x_vis[y == 2, 0], x_vis[y == 2, 1], label=\"Ambient\", alpha=0.5,\n",
    "            edgecolor=almost_black, facecolor=palette[2], linewidth=0.15)\n",
    "ax1.scatter(x_vis[y == 19, 0], x_vis[y == 19, 1], label=\"Metal\", alpha=0.5,\n",
    "            edgecolor=almost_black, facecolor=palette[3], linewidth=0.15)\n",
    "\n",
    "\n",
    "ax1.set_title('Original dataset')\n",
    "\n",
    "ax2.scatter(x_resampled_vis[y_resampled == 0, 0], x_resampled_vis[y_resampled == 0, 1],\n",
    "            label=\"Acoustic\", alpha=.5, edgecolor=almost_black,\n",
    "            facecolor=palette[0], linewidth=0.15)\n",
    "ax2.scatter(x_resampled_vis[y_resampled == 1, 0], x_resampled_vis[y_resampled == 1, 1],\n",
    "            label=\"Alternative\", alpha=.5, edgecolor=almost_black,\n",
    "            facecolor=palette[1], linewidth=0.15)\n",
    "ax2.scatter(x_resampled_vis[y_resampled == 2, 0], x_resampled_vis[y_resampled == 2, 1],\n",
    "            label=\"Ambient\", alpha=.5, edgecolor=almost_black,\n",
    "            facecolor=palette[2], linewidth=0.15)\n",
    "ax2.scatter(x_resampled_vis[y_resampled == 19, 0], x_resampled_vis[y_resampled == 19, 1],\n",
    "            label=\"Metal\", alpha=.5, edgecolor=almost_black,\n",
    "            facecolor=palette[3], linewidth=0.15)\n",
    "ax2.set_title('Dataset with random undersampling')\n",
    "\n",
    "plt.show()"
   ]
  },
  {
   "cell_type": "code",
   "execution_count": null,
   "id": "7e4caa15",
   "metadata": {},
   "outputs": [],
   "source": [
    "# split into train and test sets\n",
    "# note we will use the data before PCA\n",
    "x_train, x_test, y_train, y_test = train_test_split(x_resampled, y_resampled, test_size=0.2, random_state=42)"
   ]
  },
  {
   "cell_type": "code",
   "execution_count": null,
   "id": "5d857313",
   "metadata": {},
   "outputs": [],
   "source": [
    "print('training: ', x_train.shape, y_train.shape)\n",
    "print('testing: ', x_test.shape, y_test.shape)"
   ]
  },
  {
   "cell_type": "code",
   "execution_count": null,
   "id": "9c6ed7ea",
   "metadata": {},
   "outputs": [],
   "source": [
    "# scale data\n",
    "sc = StandardScaler()\n",
    "\n",
    "x_train = sc.fit_transform(x_train)\n",
    "x_test = sc.transform(x_test)"
   ]
  },
  {
   "cell_type": "code",
   "execution_count": null,
   "id": "886a4a24",
   "metadata": {},
   "outputs": [],
   "source": [
    "# choose best value of k\n",
    "choose_k_value()"
   ]
  },
  {
   "cell_type": "code",
   "execution_count": null,
   "id": "dc8ea555",
   "metadata": {},
   "outputs": [],
   "source": [
    "# it looks like around 9 is the best value of k to use\n",
    "\n",
    "knn= KNeighborsClassifier(n_neighbors=9)\n",
    "knn.fit(x_train, y_train)\n",
    "y_pred= knn.predict(x_test)\n",
    "metrics.accuracy_score(y_test,y_pred) #.11"
   ]
  },
  {
   "cell_type": "code",
   "execution_count": null,
   "id": "9475f1ac",
   "metadata": {},
   "outputs": [],
   "source": [
    "print(classification_report(y_test, y_pred))\n",
    "\n",
    "# f1 scores are not excellent, but with undersampling, there are not many samples\n",
    "# and we see from the PCA visualizaton, that the mfcc features are rather overlapping already\n",
    "# metal (19), which has the highest f1 score (.60), is more seperated on the PCA plot (in red)"
   ]
  },
  {
   "cell_type": "code",
   "execution_count": null,
   "id": "14819c7d",
   "metadata": {},
   "outputs": [],
   "source": []
  },
  {
   "cell_type": "code",
   "execution_count": null,
   "id": "6089f239",
   "metadata": {},
   "outputs": [],
   "source": []
  }
 ],
 "metadata": {
  "kernelspec": {
   "display_name": "Python 3 (ipykernel)",
   "language": "python",
   "name": "python3"
  },
  "language_info": {
   "codemirror_mode": {
    "name": "ipython",
    "version": 3
   },
   "file_extension": ".py",
   "mimetype": "text/x-python",
   "name": "python",
   "nbconvert_exporter": "python",
   "pygments_lexer": "ipython3",
   "version": "3.9.7"
  }
 },
 "nbformat": 4,
 "nbformat_minor": 5
}
