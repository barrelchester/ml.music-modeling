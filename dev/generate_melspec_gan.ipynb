{
 "cells": [
  {
   "cell_type": "code",
   "execution_count": 1,
   "metadata": {},
   "outputs": [],
   "source": [
    "import sys, os, re, gzip, json, random, math\n",
    "\n",
    "import numpy as np\n",
    "import sklearn\n",
    "from sklearn.decomposition import TruncatedSVD\n",
    "import matplotlib.pyplot as plt\n",
    "\n",
    "import torch\n",
    "import torch.nn as nn\n",
    "import torch.functional as F\n",
    "\n",
    "import librosa\n",
    "import librosa.display\n",
    "\n",
    "import soundfile as sf\n",
    "\n",
    "%matplotlib inline"
   ]
  },
  {
   "cell_type": "code",
   "execution_count": 2,
   "metadata": {},
   "outputs": [],
   "source": [
    "data_path = '../data'\n",
    "mp3com_path = '%s/mp3_com' % data_path\n",
    "\n",
    "myspace_path = '%s/myspace_mp3s' % data_path\n",
    "metadata_path = '%s/metadata.json.gz' % myspace_path\n",
    "genre_map_path = '%s/genre_map.pkl' % myspace_path\n",
    "\n",
    "features_path = '%s/audio_features' % data_path\n",
    "melspec_path = '%s/melspec' % features_path\n",
    "\n",
    "gen_path = 'generator.model'\n",
    "discr_path = 'discriminator.model'\n",
    "num_gpus = torch.cuda.device_count()\n",
    "device = torch.device('cuda') if torch.cuda.is_available() else torch.device('cpu')"
   ]
  },
  {
   "cell_type": "code",
   "execution_count": 3,
   "metadata": {},
   "outputs": [],
   "source": [
    "#discrim cross ent loss with p true distr, q fake distr:  H(p,q) = - sum(p * log(q))\n",
    "# H(q) = - 1/N sum( (y * log(p(y))) + ((1-y) * (log(1 - p(y)))) )\n",
    "# push real preds to 1 and fake to 0 via log probability\n",
    "# min(G)max(D) V(G, D) = Expectation(x ~ pdata(x))[log D(x)] + Expectation(z ~ pz(z))[log (1 - D(G(z)))]"
   ]
  },
  {
   "cell_type": "code",
   "execution_count": 4,
   "metadata": {},
   "outputs": [],
   "source": [
    "def weights_init(m):\n",
    "    classname = m.__class__.__name__\n",
    "    #center conv weights on 0\n",
    "    if 'Conv' in classname:\n",
    "        m.weight.data.normal_(0.0, 0.02)\n",
    "    #center batch norm wts on 1\n",
    "    elif 'BatchNorm' in classname:\n",
    "        m.weight.data.normal_(1.0, 0.02)\n",
    "        m.bias.data.fill_(0)"
   ]
  },
  {
   "cell_type": "code",
   "execution_count": 5,
   "metadata": {},
   "outputs": [],
   "source": [
    "class Discriminator(nn.Module):\n",
    "    def __init__(self):\n",
    "        super(Discriminator, self).__init__()\n",
    "        self.num_gpus = torch.cuda.device_count()\n",
    "        self.model = nn.Sequential(\n",
    "            nn.Conv2d(in_channels=1, out_channels=32, kernel_size=(4, 16), stride=2, padding=1, bias=False),\n",
    "            #nn.Conv2d(in_channels=1, out_channels=64, kernel_size=(4, 20), stride=3, padding=1, bias=False),\n",
    "            nn.LeakyReLU(0.2, inplace=True),\n",
    "            nn.Dropout2d(0.25), \n",
    "            \n",
    "            nn.Conv2d(in_channels=32, out_channels=64, kernel_size=(4, 16), stride=2, padding=1, bias=False),\n",
    "            nn.BatchNorm2d(num_features=64, momentum=0.8),\n",
    "            nn.LeakyReLU(0.2, inplace=True),\n",
    "            nn.Dropout2d(0.25), \n",
    "            \n",
    "            nn.Conv2d(in_channels=64, out_channels=128, kernel_size=(4, 16), stride=2, padding=1, bias=False),\n",
    "            nn.BatchNorm2d(num_features=128, momentum=0.8),\n",
    "            nn.LeakyReLU(0.2, inplace=True),\n",
    "            nn.Dropout2d(0.25), \n",
    "            \n",
    "            nn.Conv2d(in_channels=128, out_channels=256, kernel_size=(4, 16), stride=2, padding=1, bias=False),\n",
    "            nn.BatchNorm2d(num_features=256, momentum=0.8),\n",
    "            nn.LeakyReLU(0.2, inplace=True),\n",
    "            nn.Dropout2d(0.25), \n",
    "            \n",
    "            nn.Conv2d(in_channels=256, out_channels=512, kernel_size=(4, 16), stride=2, padding=1, bias=False),\n",
    "            nn.BatchNorm2d(num_features=512, momentum=0.8),\n",
    "            nn.LeakyReLU(0.2, inplace=True),\n",
    "            nn.Dropout2d(0.25), \n",
    "            \n",
    "            nn.Conv2d(in_channels=512, out_channels=1, kernel_size=(4, 20), stride=1, padding=0, bias=False),\n",
    "            #nn.Conv2d(in_channels=256, out_channels=1, kernel_size=(4, 27), stride=4, padding=0, bias=False),\n",
    "            nn.Sigmoid()\n",
    "        )\n",
    "        \n",
    "        \n",
    "    def forward(self, x):\n",
    "        if x.is_cuda and self.num_gpus > 1:\n",
    "            output = nn.parallel.data_parallel(self.model, x, range(self.num_gpus))\n",
    "        else:\n",
    "            output = self.model(x)\n",
    "\n",
    "        return output.squeeze()"
   ]
  },
  {
   "cell_type": "code",
   "execution_count": 6,
   "metadata": {},
   "outputs": [
    {
     "name": "stdout",
     "output_type": "stream",
     "text": [
      "Loading stored discriminator\n",
      "Discriminator(\n",
      "  (model): Sequential(\n",
      "    (0): Conv2d(1, 32, kernel_size=(4, 16), stride=(2, 2), padding=(1, 1), bias=False)\n",
      "    (1): LeakyReLU(negative_slope=0.2, inplace=True)\n",
      "    (2): Dropout2d(p=0.25, inplace=False)\n",
      "    (3): Conv2d(32, 64, kernel_size=(4, 16), stride=(2, 2), padding=(1, 1), bias=False)\n",
      "    (4): BatchNorm2d(64, eps=1e-05, momentum=0.8, affine=True, track_running_stats=True)\n",
      "    (5): LeakyReLU(negative_slope=0.2, inplace=True)\n",
      "    (6): Dropout2d(p=0.25, inplace=False)\n",
      "    (7): Conv2d(64, 128, kernel_size=(4, 16), stride=(2, 2), padding=(1, 1), bias=False)\n",
      "    (8): BatchNorm2d(128, eps=1e-05, momentum=0.8, affine=True, track_running_stats=True)\n",
      "    (9): LeakyReLU(negative_slope=0.2, inplace=True)\n",
      "    (10): Dropout2d(p=0.25, inplace=False)\n",
      "    (11): Conv2d(128, 256, kernel_size=(4, 16), stride=(2, 2), padding=(1, 1), bias=False)\n",
      "    (12): BatchNorm2d(256, eps=1e-05, momentum=0.8, affine=True, track_running_stats=True)\n",
      "    (13): LeakyReLU(negative_slope=0.2, inplace=True)\n",
      "    (14): Dropout2d(p=0.25, inplace=False)\n",
      "    (15): Conv2d(256, 512, kernel_size=(4, 16), stride=(2, 2), padding=(1, 1), bias=False)\n",
      "    (16): BatchNorm2d(512, eps=1e-05, momentum=0.8, affine=True, track_running_stats=True)\n",
      "    (17): LeakyReLU(negative_slope=0.2, inplace=True)\n",
      "    (18): Dropout2d(p=0.25, inplace=False)\n",
      "    (19): Conv2d(512, 1, kernel_size=(4, 20), stride=(1, 1), bias=False)\n",
      "    (20): Sigmoid()\n",
      "  )\n",
      ")\n"
     ]
    }
   ],
   "source": [
    "discriminator = Discriminator().to(device)\n",
    "discriminator.apply(weights_init)\n",
    "\n",
    "if os.path.exists(discr_path):\n",
    "    print('Loading stored discriminator')\n",
    "    discriminator.load_state_dict(torch.load(discr_path))\n",
    "    \n",
    "# Handle multi-gpu if desired\n",
    "if (device.type == 'cuda') and (num_gpus > 1):\n",
    "    discriminator = nn.DataParallel(discriminator, list(range(num_gpus)))\n",
    "    \n",
    "print(discriminator)"
   ]
  },
  {
   "cell_type": "code",
   "execution_count": 7,
   "metadata": {},
   "outputs": [],
   "source": [
    "class Generator(nn.Module):\n",
    "    '''Takes a random vector and tries to generate a realistic target from it'''\n",
    "    def __init__(self, latent_size):\n",
    "        super(Generator, self).__init__()\n",
    "        self.num_gpus = torch.cuda.device_count()\n",
    "        self.model = nn.Sequential(\n",
    "            nn.ConvTranspose2d(in_channels=latent_size, out_channels=512, kernel_size=(4,12), stride=2, padding=1, bias=False),#4->8\n",
    "            nn.BatchNorm2d(512),\n",
    "            nn.ReLU(True),\n",
    "            \n",
    "            nn.ConvTranspose2d(in_channels=512, out_channels=256, kernel_size=(4,12), stride=2, padding=1, bias=False),#8->16\n",
    "            #nn.ConvTranspose2d(in_channels=latent_size, out_channels=256, kernel_size=(4,12), stride=3, padding=1, bias=False),#8->16\n",
    "            nn.BatchNorm2d(256),\n",
    "            nn.ReLU(True),\n",
    "            \n",
    "            nn.ConvTranspose2d(in_channels=256, out_channels=128, kernel_size=(4,10), stride=2, padding=1, bias=False),#16->32\n",
    "            #nn.ConvTranspose2d(in_channels=256, out_channels=128, kernel_size=(4,11), stride=3, padding=1, bias=False),#16->32\n",
    "            nn.BatchNorm2d(128),\n",
    "            nn.ReLU(True),\n",
    "            \n",
    "            nn.ConvTranspose2d(in_channels=128, out_channels=64, kernel_size=(4,8), stride=2, padding=1, bias=False),#32->64\n",
    "            #nn.ConvTranspose2d(in_channels=128, out_channels=64, kernel_size=(4,10), stride=3, padding=1, bias=False),#32->64\n",
    "            nn.BatchNorm2d(64),\n",
    "            nn.ReLU(True),\n",
    "            \n",
    "            nn.ConvTranspose2d(in_channels=64, out_channels=32, kernel_size=(4,4), stride=2, padding=1, bias=False),#64->128\n",
    "            #nn.ConvTranspose2d(in_channels=64, out_channels=32, kernel_size=(4,8), stride=3, padding=0, bias=False),#64->128\n",
    "            nn.BatchNorm2d(32),\n",
    "            nn.ReLU(True),\n",
    "            \n",
    "            nn.ConvTranspose2d(in_channels=32, out_channels=16, kernel_size=(4,4), stride=2, padding=1, bias=False),\n",
    "            nn.BatchNorm2d(16),\n",
    "            nn.ReLU(True),\n",
    "            \n",
    "            nn.ConvTranspose2d(in_channels=16, out_channels=1, kernel_size=(4,4), stride=2, padding=1, bias=False),\n",
    "            #nn.ConvTranspose2d(in_channels=32, out_channels=1, kernel_size=(2,1), stride=3, padding=0, bias=False),\n",
    "            \n",
    "            #nn.Tanh()\n",
    "        )\n",
    "        \n",
    "    def forward(self, z):\n",
    "        if z.is_cuda and self.num_gpus > 1:\n",
    "            output = nn.parallel.data_parallel(self.model, z, range(self.num_gpus))\n",
    "        else:\n",
    "            output = self.model(z)\n",
    "\n",
    "        return output"
   ]
  },
  {
   "cell_type": "code",
   "execution_count": 8,
   "metadata": {},
   "outputs": [
    {
     "name": "stdout",
     "output_type": "stream",
     "text": [
      "loading existing generator\n",
      "Generator(\n",
      "  (model): Sequential(\n",
      "    (0): ConvTranspose2d(1024, 512, kernel_size=(4, 12), stride=(2, 2), padding=(1, 1), bias=False)\n",
      "    (1): BatchNorm2d(512, eps=1e-05, momentum=0.1, affine=True, track_running_stats=True)\n",
      "    (2): ReLU(inplace=True)\n",
      "    (3): ConvTranspose2d(512, 256, kernel_size=(4, 12), stride=(2, 2), padding=(1, 1), bias=False)\n",
      "    (4): BatchNorm2d(256, eps=1e-05, momentum=0.1, affine=True, track_running_stats=True)\n",
      "    (5): ReLU(inplace=True)\n",
      "    (6): ConvTranspose2d(256, 128, kernel_size=(4, 10), stride=(2, 2), padding=(1, 1), bias=False)\n",
      "    (7): BatchNorm2d(128, eps=1e-05, momentum=0.1, affine=True, track_running_stats=True)\n",
      "    (8): ReLU(inplace=True)\n",
      "    (9): ConvTranspose2d(128, 64, kernel_size=(4, 8), stride=(2, 2), padding=(1, 1), bias=False)\n",
      "    (10): BatchNorm2d(64, eps=1e-05, momentum=0.1, affine=True, track_running_stats=True)\n",
      "    (11): ReLU(inplace=True)\n",
      "    (12): ConvTranspose2d(64, 32, kernel_size=(4, 4), stride=(2, 2), padding=(1, 1), bias=False)\n",
      "    (13): BatchNorm2d(32, eps=1e-05, momentum=0.1, affine=True, track_running_stats=True)\n",
      "    (14): ReLU(inplace=True)\n",
      "    (15): ConvTranspose2d(32, 16, kernel_size=(4, 4), stride=(2, 2), padding=(1, 1), bias=False)\n",
      "    (16): BatchNorm2d(16, eps=1e-05, momentum=0.1, affine=True, track_running_stats=True)\n",
      "    (17): ReLU(inplace=True)\n",
      "    (18): ConvTranspose2d(16, 1, kernel_size=(4, 4), stride=(2, 2), padding=(1, 1), bias=False)\n",
      "  )\n",
      ")\n"
     ]
    }
   ],
   "source": [
    "latent_size = 1024\n",
    "\n",
    "generator = Generator(latent_size).to(device)\n",
    "generator.apply(weights_init)\n",
    "\n",
    "if os.path.exists(gen_path):\n",
    "    print('loading existing generator')\n",
    "    generator.load_state_dict(torch.load(gen_path))\n",
    "    \n",
    "# Handle multi-gpu if desired\n",
    "if (device.type == 'cuda') and (num_gpus > 1):\n",
    "    generator = nn.DataParallel(generator, list(range(num_gpus)))\n",
    "    \n",
    "print(generator)"
   ]
  },
  {
   "cell_type": "code",
   "execution_count": 9,
   "metadata": {},
   "outputs": [],
   "source": [
    "lr = 5e-4\n",
    "beta = 0.5\n",
    "\n",
    "criterion = nn.BCELoss()\n",
    "\n",
    "# setup optimizer\n",
    "opt_d = torch.optim.Adam(discriminator.parameters(), lr=lr, betas=(beta, 0.999))\n",
    "opt_g = torch.optim.Adam(generator.parameters(), lr=lr, betas=(beta, 0.999))"
   ]
  },
  {
   "cell_type": "code",
   "execution_count": 11,
   "metadata": {},
   "outputs": [],
   "source": [
    "def get_samples(melspec_samples_path, sample_width, genres, max_samples):\n",
    "    samples = []\n",
    "    per_genre = max_samples//len(genres)\n",
    "    \n",
    "    for genre in genres:\n",
    "        genre_path = '%s/%s' % (melspec_samples_path, genre)\n",
    "        \n",
    "        fns = [fn for fn in os.listdir(genre_path) if fn.endswith('.npy')]\n",
    "        random.shuffle(fns)\n",
    "        fns = fns[:50]\n",
    "        per_file = per_genre//len(fns)\n",
    "        \n",
    "        for fn in fns:\n",
    "            fp = '%s/%s' % (genre_path, fn)\n",
    "            x = np.load(fp)\n",
    "\n",
    "            max_idx = x.shape[1] - sample_width\n",
    "            idx = np.arange(max_idx)\n",
    "            np.random.shuffle(idx)\n",
    "\n",
    "            for ix in idx[:per_file]:\n",
    "                samples.append(torch.from_numpy(x[:, ix:ix+sample_width]))\n",
    "        \n",
    "    random.shuffle(samples)\n",
    "    \n",
    "    return samples"
   ]
  },
  {
   "cell_type": "code",
   "execution_count": 12,
   "metadata": {
    "scrolled": true
   },
   "outputs": [],
   "source": [
    "def train(discriminator, generator, criterion, opt_d, opt_g, \n",
    "          num_epochs, melspec_path, sample_width, max_samples, genres):\n",
    "    torch.manual_seed(111)\n",
    "    fixed_noise = torch.randn(1, latent_size, 1, 1, device=device)\n",
    "    d_losses = []\n",
    "    g_losses = []\n",
    "    \n",
    "    for epoch in range(1, num_epochs+1):\n",
    "        print('Epoch %d' % epoch)\n",
    "        d_ep_losses = []\n",
    "        g_ep_losses = []\n",
    "\n",
    "        samples = get_samples(melspec_path, sample_width, genres, max_samples)\n",
    "        num_batches = math.ceil(len(samples)/batch_size)\n",
    "        print('Samples: %d, Batches: %d' % (len(samples), num_batches))\n",
    "\n",
    "        for batch in range(num_batches):\n",
    "            if batch and batch%250==0:\n",
    "                if batch:\n",
    "                    print('  Batch %d, Avg Epoch Discr Loss: %.8f, Avg Epoch Gen Loss: %.8f' % (\n",
    "                        batch, sum(d_ep_losses)/len(d_ep_losses), sum(g_ep_losses)/len(g_ep_losses)))\n",
    "                save_and_sample(discriminator, generator, fixed_noise, epoch, batch)\n",
    "\n",
    "            #stack batch samples, add empty channel dimension, [b, 1, 128, 2048]\n",
    "            x_real = torch.stack(samples[batch*batch_size:(batch+1)*batch_size]).unsqueeze(1).to(device)\n",
    "            if x_real.size(0)<=1:\n",
    "                continue\n",
    "\n",
    "            opt_d.zero_grad() #clear accumulated\n",
    "\n",
    "            #how well does discriminator do with real samples?\n",
    "            d_out_real = discriminator(x_real).squeeze()\n",
    "            lab_real = torch.ones(x_real.size(0))\n",
    "            d_loss_real = criterion(d_out_real, lab_real)\n",
    "\n",
    "            #calc now? https://pytorch.org/tutorials/beginner/dcgan_faces_tutorial.html\n",
    "            d_loss_real.backward()\n",
    "\n",
    "\n",
    "            #how well does discriminator do with fake samples created by the generator?\n",
    "            noise = torch.randn(x_real.size(0), latent_size, 1, 1, device=device)\n",
    "            x_fake = generator(noise) \n",
    "\n",
    "            #don't store grads for this step - use x_fake again for gen training and retain grads\n",
    "            d_out_fake = discriminator(x_fake.detach())\n",
    "            lab_fake = torch.zeros(x_real.size(0))\n",
    "            d_loss_fake = criterion(d_out_fake, lab_fake)\n",
    "\n",
    "            d_loss_fake.backward()\n",
    "\n",
    "            #store loss\n",
    "            d_loss = d_loss_real + d_loss_fake\n",
    "            d_ep_losses.append(d_loss.item())\n",
    "\n",
    "            #update discriminator params\n",
    "            opt_d.step()\n",
    "\n",
    "\n",
    "            # generator training step: maximize log(D(G(z)))\n",
    "            opt_g.zero_grad()\n",
    "\n",
    "            #we want the discriminator to do bad on the generator output\n",
    "            d_g_out = discriminator(x_fake)\n",
    "\n",
    "            #want this to be close to real bc we're trying to generate realisticly\n",
    "            g_loss = criterion(d_g_out, lab_real) # -log D(G(z))\n",
    "\n",
    "            #calc grads\n",
    "            g_loss.backward()\n",
    "\n",
    "            #store loss\n",
    "            g_ep_losses.append(g_loss.item())\n",
    "\n",
    "            #update generator params\n",
    "            opt_g.step()\n",
    "\n",
    "        d_losses.extend(d_ep_losses)\n",
    "        g_losses.extend(g_ep_losses)\n",
    "\n",
    "        save_and_sample(discriminator, generator, fixed_noise, epoch, batch)\n",
    "        \n",
    "    return discriminator, generator\n",
    "    \n",
    "    \n",
    "def save_and_sample(discriminator, generator, fixed_noise, epoch, batch):\n",
    "    print('saving models...')\n",
    "    torch.save(discriminator.state_dict(), discr_path)\n",
    "    torch.save(generator.state_dict(), gen_path)\n",
    "    \n",
    "    #generate a sample melspec\n",
    "    fake_melspec = generator(fixed_noise).squeeze().detach().numpy()\n",
    "    \n",
    "    fig, ax = plt.subplots(figsize=(12,8))\n",
    "    melspec_db = librosa.amplitude_to_db(np.abs(fake_melspec), ref=np.max)\n",
    "    img = librosa.display.specshow(melspec_db, x_axis='time', y_axis='mel', ax=ax)\n",
    "    fig.colorbar(img, ax=ax, format=\"%+2.f dB\")\n",
    "    print('gan_melspec_bce_epoch%d_batch%d.png' % (epoch, batch))\n",
    "    fig.savefig('gan_melspec_bce_epoch%d_batch%d.png' % (epoch, batch))\n",
    "    fig.clf()\n",
    "    \n",
    "    if batch%1000==0:\n",
    "        print('generating fake melspec audio...')\n",
    "        n_fft=2048\n",
    "        n_iter=32\n",
    "        sr=22050\n",
    "        fake_melspec_audio = librosa.feature.inverse.mel_to_audio(fake_melspec, sr=sr, n_fft=n_fft, n_iter=n_iter)\n",
    "        print('gan_melspec_bce_audio_epoch%d_batch%d.wav' % (epoch, batch))\n",
    "        sf.write('gan_melspec_bce_audio_epoch%d_batch%d.wav' % (epoch, batch), fake_melspec_audio, sr, 'PCM_24')"
   ]
  },
  {
   "cell_type": "code",
   "execution_count": 13,
   "metadata": {
    "scrolled": true
   },
   "outputs": [
    {
     "name": "stdout",
     "output_type": "stream",
     "text": [
      "Epoch 1\n",
      "Samples: 24701, Batches: 3088\n",
      "  Batch 250, Avg Epoch Discr Loss: 1.30476649, Avg Epoch Gen Loss: 7.27871091\n",
      "saving models...\n",
      "gan_melspec_bce_epoch1_batch250.png\n",
      "  Batch 500, Avg Epoch Discr Loss: 1.21052844, Avg Epoch Gen Loss: 7.48199999\n",
      "saving models...\n",
      "gan_melspec_bce_epoch1_batch500.png\n",
      "  Batch 750, Avg Epoch Discr Loss: 1.20058223, Avg Epoch Gen Loss: 7.50107279\n",
      "saving models...\n",
      "gan_melspec_bce_epoch1_batch750.png\n",
      "  Batch 1000, Avg Epoch Discr Loss: 1.20933224, Avg Epoch Gen Loss: 7.61389700\n",
      "saving models...\n",
      "gan_melspec_bce_epoch1_batch1000.png\n",
      "generating fake melspec audio...\n",
      "gan_melspec_bce_audio_epoch1_batch1000.wav\n",
      "  Batch 1250, Avg Epoch Discr Loss: 1.21587293, Avg Epoch Gen Loss: 7.46088385\n",
      "saving models...\n",
      "gan_melspec_bce_epoch1_batch1250.png\n",
      "  Batch 1500, Avg Epoch Discr Loss: 1.18764023, Avg Epoch Gen Loss: 7.57741723\n",
      "saving models...\n",
      "gan_melspec_bce_epoch1_batch1500.png\n",
      "  Batch 1750, Avg Epoch Discr Loss: 1.20389525, Avg Epoch Gen Loss: 7.51555480\n",
      "saving models...\n",
      "gan_melspec_bce_epoch1_batch1750.png\n",
      "  Batch 2000, Avg Epoch Discr Loss: 1.20887832, Avg Epoch Gen Loss: 7.35252645\n",
      "saving models...\n",
      "gan_melspec_bce_epoch1_batch2000.png\n",
      "generating fake melspec audio...\n",
      "gan_melspec_bce_audio_epoch1_batch2000.wav\n",
      "  Batch 2250, Avg Epoch Discr Loss: 1.18926395, Avg Epoch Gen Loss: 7.36811941\n",
      "saving models...\n",
      "gan_melspec_bce_epoch1_batch2250.png\n",
      "  Batch 2500, Avg Epoch Discr Loss: 1.17094249, Avg Epoch Gen Loss: 7.31851352\n",
      "saving models...\n",
      "gan_melspec_bce_epoch1_batch2500.png\n",
      "  Batch 2750, Avg Epoch Discr Loss: 1.14941631, Avg Epoch Gen Loss: 7.20700537\n",
      "saving models...\n",
      "gan_melspec_bce_epoch1_batch2750.png\n",
      "  Batch 3000, Avg Epoch Discr Loss: 1.13849326, Avg Epoch Gen Loss: 7.22212503\n",
      "saving models...\n",
      "gan_melspec_bce_epoch1_batch3000.png\n",
      "generating fake melspec audio...\n",
      "gan_melspec_bce_audio_epoch1_batch3000.wav\n",
      "saving models...\n",
      "gan_melspec_bce_epoch1_batch3087.png\n",
      "Epoch 2\n",
      "Samples: 24958, Batches: 3120\n",
      "  Batch 250, Avg Epoch Discr Loss: 1.13731175, Avg Epoch Gen Loss: 6.70596076\n",
      "saving models...\n",
      "gan_melspec_bce_epoch2_batch250.png\n",
      "  Batch 500, Avg Epoch Discr Loss: 1.00003834, Avg Epoch Gen Loss: 6.81043026\n",
      "saving models...\n",
      "gan_melspec_bce_epoch2_batch500.png\n",
      "  Batch 750, Avg Epoch Discr Loss: 1.03947062, Avg Epoch Gen Loss: 6.92988260\n",
      "saving models...\n",
      "gan_melspec_bce_epoch2_batch750.png\n",
      "  Batch 1000, Avg Epoch Discr Loss: 1.02180530, Avg Epoch Gen Loss: 6.81419395\n",
      "saving models...\n",
      "gan_melspec_bce_epoch2_batch1000.png\n",
      "generating fake melspec audio...\n",
      "gan_melspec_bce_audio_epoch2_batch1000.wav\n",
      "  Batch 1250, Avg Epoch Discr Loss: 1.01074845, Avg Epoch Gen Loss: 6.91968717\n",
      "saving models...\n",
      "gan_melspec_bce_epoch2_batch1250.png\n",
      "  Batch 1500, Avg Epoch Discr Loss: 0.96947865, Avg Epoch Gen Loss: 6.96737463\n",
      "saving models...\n",
      "gan_melspec_bce_epoch2_batch1500.png\n",
      "  Batch 1750, Avg Epoch Discr Loss: 0.96844067, Avg Epoch Gen Loss: 7.07368105\n",
      "saving models...\n",
      "gan_melspec_bce_epoch2_batch1750.png\n",
      "  Batch 2000, Avg Epoch Discr Loss: 0.92542164, Avg Epoch Gen Loss: 7.10959229\n",
      "saving models...\n"
     ]
    },
    {
     "name": "stderr",
     "output_type": "stream",
     "text": [
      "<ipython-input-12-4257988760bb>:93: RuntimeWarning: More than 20 figures have been opened. Figures created through the pyplot interface (`matplotlib.pyplot.figure`) are retained until explicitly closed and may consume too much memory. (To control this warning, see the rcParam `figure.max_open_warning`).\n",
      "  fig, ax = plt.subplots(figsize=(12,8))\n"
     ]
    },
    {
     "name": "stdout",
     "output_type": "stream",
     "text": [
      "gan_melspec_bce_epoch2_batch2000.png\n",
      "generating fake melspec audio...\n",
      "gan_melspec_bce_audio_epoch2_batch2000.wav\n",
      "  Batch 2250, Avg Epoch Discr Loss: 0.92011471, Avg Epoch Gen Loss: 7.12662265\n",
      "saving models...\n",
      "gan_melspec_bce_epoch2_batch2250.png\n",
      "  Batch 2500, Avg Epoch Discr Loss: 0.90658179, Avg Epoch Gen Loss: 7.14036190\n",
      "saving models...\n",
      "gan_melspec_bce_epoch2_batch2500.png\n",
      "  Batch 2750, Avg Epoch Discr Loss: 0.89146868, Avg Epoch Gen Loss: 7.13318207\n",
      "saving models...\n",
      "gan_melspec_bce_epoch2_batch2750.png\n",
      "  Batch 3000, Avg Epoch Discr Loss: 0.87119222, Avg Epoch Gen Loss: 7.19911428\n",
      "saving models...\n",
      "gan_melspec_bce_epoch2_batch3000.png\n",
      "generating fake melspec audio...\n",
      "gan_melspec_bce_audio_epoch2_batch3000.wav\n",
      "saving models...\n",
      "gan_melspec_bce_epoch2_batch3119.png\n",
      "Epoch 3\n",
      "Samples: 24492, Batches: 3062\n",
      "  Batch 250, Avg Epoch Discr Loss: 1.04224048, Avg Epoch Gen Loss: 7.39558138\n",
      "saving models...\n",
      "gan_melspec_bce_epoch3_batch250.png\n",
      "  Batch 500, Avg Epoch Discr Loss: 1.06387278, Avg Epoch Gen Loss: 7.11181427\n",
      "saving models...\n",
      "gan_melspec_bce_epoch3_batch500.png\n",
      "  Batch 750, Avg Epoch Discr Loss: 0.99439956, Avg Epoch Gen Loss: 7.13963659\n",
      "saving models...\n",
      "gan_melspec_bce_epoch3_batch750.png\n",
      "  Batch 1000, Avg Epoch Discr Loss: 0.98851515, Avg Epoch Gen Loss: 7.10608713\n",
      "saving models...\n",
      "gan_melspec_bce_epoch3_batch1000.png\n",
      "generating fake melspec audio...\n",
      "gan_melspec_bce_audio_epoch3_batch1000.wav\n",
      "  Batch 1250, Avg Epoch Discr Loss: 0.98475827, Avg Epoch Gen Loss: 7.02891313\n",
      "saving models...\n",
      "gan_melspec_bce_epoch3_batch1250.png\n",
      "  Batch 1500, Avg Epoch Discr Loss: 0.98448932, Avg Epoch Gen Loss: 6.82980461\n",
      "saving models...\n",
      "gan_melspec_bce_epoch3_batch1500.png\n",
      "  Batch 1750, Avg Epoch Discr Loss: 0.95623819, Avg Epoch Gen Loss: 6.69164232\n",
      "saving models...\n",
      "gan_melspec_bce_epoch3_batch1750.png\n",
      "  Batch 2000, Avg Epoch Discr Loss: 0.93146774, Avg Epoch Gen Loss: 6.58142626\n",
      "saving models...\n",
      "gan_melspec_bce_epoch3_batch2000.png\n",
      "generating fake melspec audio...\n",
      "gan_melspec_bce_audio_epoch3_batch2000.wav\n",
      "  Batch 2250, Avg Epoch Discr Loss: 0.89148134, Avg Epoch Gen Loss: 6.57030447\n",
      "saving models...\n",
      "gan_melspec_bce_epoch3_batch2250.png\n",
      "  Batch 2500, Avg Epoch Discr Loss: 0.86116700, Avg Epoch Gen Loss: 6.59954593\n",
      "saving models...\n",
      "gan_melspec_bce_epoch3_batch2500.png\n",
      "  Batch 2750, Avg Epoch Discr Loss: 0.85590855, Avg Epoch Gen Loss: 6.54044325\n",
      "saving models...\n",
      "gan_melspec_bce_epoch3_batch2750.png\n"
     ]
    },
    {
     "ename": "KeyboardInterrupt",
     "evalue": "",
     "output_type": "error",
     "traceback": [
      "\u001b[1;31m---------------------------------------------------------------------------\u001b[0m",
      "\u001b[1;31mKeyboardInterrupt\u001b[0m                         Traceback (most recent call last)",
      "\u001b[1;32m<ipython-input-13-b6c1594a543b>\u001b[0m in \u001b[0;36m<module>\u001b[1;34m\u001b[0m\n\u001b[0;32m      4\u001b[0m \u001b[0mmax_samples\u001b[0m \u001b[1;33m=\u001b[0m \u001b[1;36m25000\u001b[0m\u001b[1;33m\u001b[0m\u001b[1;33m\u001b[0m\u001b[0m\n\u001b[0;32m      5\u001b[0m \u001b[0mgenres\u001b[0m \u001b[1;33m=\u001b[0m \u001b[1;33m[\u001b[0m\u001b[1;34m'classical'\u001b[0m\u001b[1;33m]\u001b[0m\u001b[1;33m\u001b[0m\u001b[1;33m\u001b[0m\u001b[0m\n\u001b[1;32m----> 6\u001b[1;33m discriminator, generator = train(discriminator, generator, criterion, opt_d, opt_g, \n\u001b[0m\u001b[0;32m      7\u001b[0m                                  num_epochs, melspec_path, sample_width, max_samples, genres)\n",
      "\u001b[1;32m<ipython-input-12-4257988760bb>\u001b[0m in \u001b[0;36mtrain\u001b[1;34m(discriminator, generator, criterion, opt_d, opt_g, num_epochs, melspec_path, sample_width, max_samples, genres)\u001b[0m\n\u001b[0;32m     35\u001b[0m \u001b[1;33m\u001b[0m\u001b[0m\n\u001b[0;32m     36\u001b[0m             \u001b[1;31m#calc now? https://pytorch.org/tutorials/beginner/dcgan_faces_tutorial.html\u001b[0m\u001b[1;33m\u001b[0m\u001b[1;33m\u001b[0m\u001b[1;33m\u001b[0m\u001b[0m\n\u001b[1;32m---> 37\u001b[1;33m             \u001b[0md_loss_real\u001b[0m\u001b[1;33m.\u001b[0m\u001b[0mbackward\u001b[0m\u001b[1;33m(\u001b[0m\u001b[1;33m)\u001b[0m\u001b[1;33m\u001b[0m\u001b[1;33m\u001b[0m\u001b[0m\n\u001b[0m\u001b[0;32m     38\u001b[0m \u001b[1;33m\u001b[0m\u001b[0m\n\u001b[0;32m     39\u001b[0m \u001b[1;33m\u001b[0m\u001b[0m\n",
      "\u001b[1;32mc:\\ml\\env\\lib\\site-packages\\torch\\tensor.py\u001b[0m in \u001b[0;36mbackward\u001b[1;34m(self, gradient, retain_graph, create_graph)\u001b[0m\n\u001b[0;32m    219\u001b[0m                 \u001b[0mretain_graph\u001b[0m\u001b[1;33m=\u001b[0m\u001b[0mretain_graph\u001b[0m\u001b[1;33m,\u001b[0m\u001b[1;33m\u001b[0m\u001b[1;33m\u001b[0m\u001b[0m\n\u001b[0;32m    220\u001b[0m                 create_graph=create_graph)\n\u001b[1;32m--> 221\u001b[1;33m         \u001b[0mtorch\u001b[0m\u001b[1;33m.\u001b[0m\u001b[0mautograd\u001b[0m\u001b[1;33m.\u001b[0m\u001b[0mbackward\u001b[0m\u001b[1;33m(\u001b[0m\u001b[0mself\u001b[0m\u001b[1;33m,\u001b[0m \u001b[0mgradient\u001b[0m\u001b[1;33m,\u001b[0m \u001b[0mretain_graph\u001b[0m\u001b[1;33m,\u001b[0m \u001b[0mcreate_graph\u001b[0m\u001b[1;33m)\u001b[0m\u001b[1;33m\u001b[0m\u001b[1;33m\u001b[0m\u001b[0m\n\u001b[0m\u001b[0;32m    222\u001b[0m \u001b[1;33m\u001b[0m\u001b[0m\n\u001b[0;32m    223\u001b[0m     \u001b[1;32mdef\u001b[0m \u001b[0mregister_hook\u001b[0m\u001b[1;33m(\u001b[0m\u001b[0mself\u001b[0m\u001b[1;33m,\u001b[0m \u001b[0mhook\u001b[0m\u001b[1;33m)\u001b[0m\u001b[1;33m:\u001b[0m\u001b[1;33m\u001b[0m\u001b[1;33m\u001b[0m\u001b[0m\n",
      "\u001b[1;32mc:\\ml\\env\\lib\\site-packages\\torch\\autograd\\__init__.py\u001b[0m in \u001b[0;36mbackward\u001b[1;34m(tensors, grad_tensors, retain_graph, create_graph, grad_variables)\u001b[0m\n\u001b[0;32m    128\u001b[0m         \u001b[0mretain_graph\u001b[0m \u001b[1;33m=\u001b[0m \u001b[0mcreate_graph\u001b[0m\u001b[1;33m\u001b[0m\u001b[1;33m\u001b[0m\u001b[0m\n\u001b[0;32m    129\u001b[0m \u001b[1;33m\u001b[0m\u001b[0m\n\u001b[1;32m--> 130\u001b[1;33m     Variable._execution_engine.run_backward(\n\u001b[0m\u001b[0;32m    131\u001b[0m         \u001b[0mtensors\u001b[0m\u001b[1;33m,\u001b[0m \u001b[0mgrad_tensors_\u001b[0m\u001b[1;33m,\u001b[0m \u001b[0mretain_graph\u001b[0m\u001b[1;33m,\u001b[0m \u001b[0mcreate_graph\u001b[0m\u001b[1;33m,\u001b[0m\u001b[1;33m\u001b[0m\u001b[1;33m\u001b[0m\u001b[0m\n\u001b[0;32m    132\u001b[0m         allow_unreachable=True)  # allow_unreachable flag\n",
      "\u001b[1;31mKeyboardInterrupt\u001b[0m: "
     ]
    },
    {
     "data": {
      "text/plain": [
       "<Figure size 864x576 with 0 Axes>"
      ]
     },
     "metadata": {},
     "output_type": "display_data"
    },
    {
     "data": {
      "text/plain": [
       "<Figure size 864x576 with 0 Axes>"
      ]
     },
     "metadata": {},
     "output_type": "display_data"
    },
    {
     "data": {
      "text/plain": [
       "<Figure size 864x576 with 0 Axes>"
      ]
     },
     "metadata": {},
     "output_type": "display_data"
    },
    {
     "data": {
      "text/plain": [
       "<Figure size 864x576 with 0 Axes>"
      ]
     },
     "metadata": {},
     "output_type": "display_data"
    },
    {
     "data": {
      "text/plain": [
       "<Figure size 864x576 with 0 Axes>"
      ]
     },
     "metadata": {},
     "output_type": "display_data"
    },
    {
     "data": {
      "text/plain": [
       "<Figure size 864x576 with 0 Axes>"
      ]
     },
     "metadata": {},
     "output_type": "display_data"
    },
    {
     "data": {
      "text/plain": [
       "<Figure size 864x576 with 0 Axes>"
      ]
     },
     "metadata": {},
     "output_type": "display_data"
    },
    {
     "data": {
      "text/plain": [
       "<Figure size 864x576 with 0 Axes>"
      ]
     },
     "metadata": {},
     "output_type": "display_data"
    },
    {
     "data": {
      "text/plain": [
       "<Figure size 864x576 with 0 Axes>"
      ]
     },
     "metadata": {},
     "output_type": "display_data"
    },
    {
     "data": {
      "text/plain": [
       "<Figure size 864x576 with 0 Axes>"
      ]
     },
     "metadata": {},
     "output_type": "display_data"
    },
    {
     "data": {
      "text/plain": [
       "<Figure size 864x576 with 0 Axes>"
      ]
     },
     "metadata": {},
     "output_type": "display_data"
    },
    {
     "data": {
      "text/plain": [
       "<Figure size 864x576 with 0 Axes>"
      ]
     },
     "metadata": {},
     "output_type": "display_data"
    },
    {
     "data": {
      "text/plain": [
       "<Figure size 864x576 with 0 Axes>"
      ]
     },
     "metadata": {},
     "output_type": "display_data"
    },
    {
     "data": {
      "text/plain": [
       "<Figure size 864x576 with 0 Axes>"
      ]
     },
     "metadata": {},
     "output_type": "display_data"
    },
    {
     "data": {
      "text/plain": [
       "<Figure size 864x576 with 0 Axes>"
      ]
     },
     "metadata": {},
     "output_type": "display_data"
    },
    {
     "data": {
      "text/plain": [
       "<Figure size 864x576 with 0 Axes>"
      ]
     },
     "metadata": {},
     "output_type": "display_data"
    },
    {
     "data": {
      "text/plain": [
       "<Figure size 864x576 with 0 Axes>"
      ]
     },
     "metadata": {},
     "output_type": "display_data"
    },
    {
     "data": {
      "text/plain": [
       "<Figure size 864x576 with 0 Axes>"
      ]
     },
     "metadata": {},
     "output_type": "display_data"
    },
    {
     "data": {
      "text/plain": [
       "<Figure size 864x576 with 0 Axes>"
      ]
     },
     "metadata": {},
     "output_type": "display_data"
    },
    {
     "data": {
      "text/plain": [
       "<Figure size 864x576 with 0 Axes>"
      ]
     },
     "metadata": {},
     "output_type": "display_data"
    },
    {
     "data": {
      "text/plain": [
       "<Figure size 864x576 with 0 Axes>"
      ]
     },
     "metadata": {},
     "output_type": "display_data"
    },
    {
     "data": {
      "text/plain": [
       "<Figure size 864x576 with 0 Axes>"
      ]
     },
     "metadata": {},
     "output_type": "display_data"
    },
    {
     "data": {
      "text/plain": [
       "<Figure size 864x576 with 0 Axes>"
      ]
     },
     "metadata": {},
     "output_type": "display_data"
    },
    {
     "data": {
      "text/plain": [
       "<Figure size 864x576 with 0 Axes>"
      ]
     },
     "metadata": {},
     "output_type": "display_data"
    },
    {
     "data": {
      "text/plain": [
       "<Figure size 864x576 with 0 Axes>"
      ]
     },
     "metadata": {},
     "output_type": "display_data"
    },
    {
     "data": {
      "text/plain": [
       "<Figure size 864x576 with 0 Axes>"
      ]
     },
     "metadata": {},
     "output_type": "display_data"
    },
    {
     "data": {
      "text/plain": [
       "<Figure size 864x576 with 0 Axes>"
      ]
     },
     "metadata": {},
     "output_type": "display_data"
    },
    {
     "data": {
      "text/plain": [
       "<Figure size 864x576 with 0 Axes>"
      ]
     },
     "metadata": {},
     "output_type": "display_data"
    },
    {
     "data": {
      "text/plain": [
       "<Figure size 864x576 with 0 Axes>"
      ]
     },
     "metadata": {},
     "output_type": "display_data"
    },
    {
     "data": {
      "text/plain": [
       "<Figure size 864x576 with 0 Axes>"
      ]
     },
     "metadata": {},
     "output_type": "display_data"
    },
    {
     "data": {
      "text/plain": [
       "<Figure size 864x576 with 0 Axes>"
      ]
     },
     "metadata": {},
     "output_type": "display_data"
    },
    {
     "data": {
      "text/plain": [
       "<Figure size 864x576 with 0 Axes>"
      ]
     },
     "metadata": {},
     "output_type": "display_data"
    },
    {
     "data": {
      "text/plain": [
       "<Figure size 864x576 with 0 Axes>"
      ]
     },
     "metadata": {},
     "output_type": "display_data"
    },
    {
     "data": {
      "text/plain": [
       "<Figure size 864x576 with 0 Axes>"
      ]
     },
     "metadata": {},
     "output_type": "display_data"
    },
    {
     "data": {
      "text/plain": [
       "<Figure size 864x576 with 0 Axes>"
      ]
     },
     "metadata": {},
     "output_type": "display_data"
    },
    {
     "data": {
      "text/plain": [
       "<Figure size 864x576 with 0 Axes>"
      ]
     },
     "metadata": {},
     "output_type": "display_data"
    },
    {
     "data": {
      "text/plain": [
       "<Figure size 864x576 with 0 Axes>"
      ]
     },
     "metadata": {},
     "output_type": "display_data"
    }
   ],
   "source": [
    "num_epochs = 15\n",
    "sample_width = 1024\n",
    "batch_size = 8\n",
    "max_samples = 25000\n",
    "genres = ['classical']\n",
    "discriminator, generator = train(discriminator, generator, criterion, opt_d, opt_g, \n",
    "                                 num_epochs, melspec_path, sample_width, max_samples, genres)"
   ]
  },
  {
   "cell_type": "code",
   "execution_count": 84,
   "metadata": {},
   "outputs": [
    {
     "name": "stdout",
     "output_type": "stream",
     "text": [
      "saving models...\n"
     ]
    }
   ],
   "source": [
    "print('saving models...')\n",
    "torch.save(discriminator.state_dict(), discr_path)\n",
    "torch.save(generator.state_dict(), gen_path)"
   ]
  },
  {
   "cell_type": "code",
   "execution_count": 12,
   "metadata": {},
   "outputs": [],
   "source": [
    "seed=504\n",
    "torch.manual_seed(seed)\n",
    "fixed_noise = torch.randn(1, latent_size, 1, 1, device=device)"
   ]
  },
  {
   "cell_type": "code",
   "execution_count": 13,
   "metadata": {},
   "outputs": [
    {
     "name": "stdout",
     "output_type": "stream",
     "text": [
      "(128, 1024)\n"
     ]
    }
   ],
   "source": [
    "fake_melspec = generator(fixed_noise).squeeze().detach().numpy()\n",
    "print(fake_melspec.shape)"
   ]
  },
  {
   "cell_type": "code",
   "execution_count": 15,
   "metadata": {},
   "outputs": [
    {
     "data": {
      "text/plain": [
       "<matplotlib.colorbar.Colorbar at 0x20b509025b0>"
      ]
     },
     "execution_count": 15,
     "metadata": {},
     "output_type": "execute_result"
    },
    {
     "data": {
      "image/png": "[encoded data removed]",
      "text/plain": [
       "<Figure size 864x576 with 2 Axes>"
      ]
     },
     "metadata": {
      "needs_background": "light"
     },
     "output_type": "display_data"
    }
   ],
   "source": [
    "fig, ax = plt.subplots(figsize=(12,8))\n",
    "melspec_db = librosa.amplitude_to_db(np.abs(fake_melspec), ref=np.max)\n",
    "img = librosa.display.specshow(melspec_db, x_axis='time', y_axis='mel', ax=ax)\n",
    "fig.colorbar(img, ax=ax, format=\"%+2.f dB\")\n",
    "#fig.savefig('gan_melspec_epoch%d.png' % epoch)"
   ]
  },
  {
   "cell_type": "code",
   "execution_count": 112,
   "metadata": {},
   "outputs": [],
   "source": [
    "n_fft=2048\n",
    "n_iter=32\n",
    "sr=22050\n",
    "\n",
    "fake_melspec_audio = librosa.feature.inverse.mel_to_audio(fake_melspec, sr=sr, n_fft=n_fft, n_iter=n_iter)\n",
    "sf.write('fake_melspec_audio_%d.wav' % seed, fake_melspec_audio, sr, 'PCM_24')"
   ]
  },
  {
   "cell_type": "code",
   "execution_count": 102,
   "metadata": {},
   "outputs": [
    {
     "data": {
      "image/png": "[encoded data removed]",
      "text/plain": [
       "<Figure size 432x288 with 1 Axes>"
      ]
     },
     "metadata": {
      "needs_background": "light"
     },
     "output_type": "display_data"
    }
   ],
   "source": [
    "discr_loss = [0.41627100, 0.45005141, 0.40685149, 0.41725457, 0.40152508, 0.40695933, 0.39992878, 0.38831686, 0.37921291, 0.41360345, 0.42413947, 0.43882042, 0.45458504, 0.44688170, 0.47004189, 0.48623029, 0.49219222, 0.49225665, 0.49462245, 0.49823012, 0.50401041, 0.50943839, 0.50894390, 0.51182135, 0.72848580, 0.61535725, 0.65292026, 0.63464887, 0.63580438, 0.64794041, 0.65149653, 0.68440171, 0.66651346, 0.65669187, 0.66173803, 0.67138920, 0.68003303, 0.67019907, 0.67706920, 0.69283398, 0.70213484, 0.69921260, 0.71605121, 0.71976311, 0.71855066, 0.71729580, 0.72297359, 0.72838768, 1.29776430, 1.00675893, 0.97063908, 0.91771705, 0.90834296, 0.87639741, 0.85051251, 0.85601337, 0.83654571, 0.84608212, 0.84300403, 0.85701689, 0.84986829, 0.83600597, 0.84005712, 0.83648534, 0.83813770, 0.82808094, 0.82580514, 0.81740181, 0.80901181, 0.80576582, 0.80744416, 0.80232437, 0.99938751, 0.98517773, 0.99023325, 1.04358608, 1.05710305, 1.03982212, 1.01681223, 0.98994128, 0.97877865, 0.97136892, 0.95028666, 0.93044802, 0.92357190, 0.89698750, 0.89721837, 0.88110626, 0.88123386, 0.87357487, 0.87132816, 0.87191823, 0.86864882, 0.86638471, 0.86293203, 0.85729236, 1.01831371, 0.88929611, 0.81937253, 0.83087269, 0.84262202, 0.83922751, 0.84248184, 0.83954723, 0.82538822, 0.81490728, 0.80878619, 0.78730226, 0.78036142, 0.78180657, 0.77251309, 0.77234071, 0.76803979, 0.76636464, 0.75816798, 0.75612270, 0.75782928, 0.75572147, 0.75874535, 0.76126978, 0.90184257, 0.80933727, 0.78480708, 0.75435348, 0.74888791, 0.72446916, 0.71081636, 0.70643802, 0.69996761, 0.69408925, 0.69104802, 0.70834944, 0.71215576, 0.71348011, 0.69675222, 0.68005885, 0.68480598, 0.68803219, 0.68397709, 0.68451748, 0.68222500, 0.67740282, 0.67285623, 0.66589558, 0.80206113, 0.79412570, 0.76314164, 0.71979803, 0.71931252, 0.70214870, 0.68365863, 0.67092151, 0.67182597, 0.66605036, 0.66892281, 0.67260848, 0.68510017, 0.68147879, 0.67652100, 0.66509316, 0.66203681, 0.65490350, 0.64848958, 0.64757634, 0.64421369, 0.65184832, 0.65809128, 0.65455842, 0.95881156, 0.88667609, 0.85437676, 0.80541975, 0.79582475, 0.79800502, 0.77929685, 0.78969237, 0.79998500, 0.79188287, 0.79316891, 0.78269588, 0.77674180, 0.77218232, 0.76834633, 0.76861527, 0.77183344, 0.76943575, 0.77186137, 0.75869103, 0.75272726, 0.75323146, 0.75055724, 0.74327180, 0.79368494, 0.78401268, 0.84195692, 0.82547632, 0.77035527, 0.74721273, 0.74608630, 0.74717148, 0.74042035, 0.72942913, 0.73299607, 0.72943656, 0.72918646, 0.71840885, 0.72292433, 0.71304066, 0.70083332, 0.69392609, 0.67752844, 0.67847592, 0.66464729, 0.66331083, 0.65829164, 0.65885725, 0.93333161, 0.75405877, 0.74475212, 0.70699850, 0.65310576, 0.63957017, 0.61970673, 0.61752387, 0.61666198, 0.61458167, 0.62213080, 0.62177111, 0.62304585, 0.62660575, 0.62536496, 0.62047708, 0.62870972, 0.62330536, 0.62593335, 0.62263551, 0.62622362, 0.62353112, 0.62027291, 0.61651867, 0.74738943, 0.78433429, 0.77721039, 0.76487768, 0.77815378, 0.74765991, 0.73983401, 0.72663614, 0.71590908, 0.73248135, 0.70892029, 0.69754019, 0.69944153, 0.70563651, 0.68996632, 0.68791698, 0.67533418, 0.66808369, 0.66944117, 0.66429479, 0.66715816, 0.65839834, 0.65418068, 0.65086118, 0.85661084, 0.75206097, 0.66305641, 0.70789514, 0.70622934, 0.70497930, 0.68315463, 0.69430401, 0.68655924, 0.67691712, 0.67148546, 0.65115892, 0.64324348, 0.64511798, 0.63296144, 0.64420306, 0.64298195, 0.64803255, 0.65904878, 0.66216022, 0.66076045, 0.65981587, 0.65270652, 0.64845459, 0.59812344, 0.76856130, 0.68913449, 0.68351710, 0.68868296, 0.64154374, 0.63317823, 0.63434072, 0.62415921, 0.60673654, 0.58819576, 0.59004280, 0.58052752, 0.57167158, 0.56844928, 0.55626658, 0.54916253, 0.53863072, 0.53431542, 0.53577359, 0.52236690, 0.52651778, 0.52038230, 0.52083238, 0.67052899, 0.54359047, 0.60066069, 0.53499153, 0.51649856, 0.51401762, 0.52515369, 0.55714066, 0.56928181, 0.56902501, 0.56280120, 0.54745560, 0.53828204, 0.54197096, 0.55690982, 0.55991754, 0.54922347, 0.54093064, 0.54880998, 0.55407067, 0.55992571, 0.56245024, 0.55986014, 0.55110452]\n",
    "gen_loss = [11.17128690, 11.34118599, 10.69082037, 10.80061238, 10.38549331, 10.51990621, 10.34615928, 10.19338452, 10.25171451, 10.39806310, 10.35708502, 10.38635350, 10.24527796, 10.17631003, 9.99721602, 9.75533730, 9.60885720, 9.47929885, 9.34826378, 9.22149340, 9.13429848, 9.04497040, 8.96095483, 8.85722826, 8.13234923, 8.23175057, 8.37201621, 8.08632868, 8.00664539, 7.99872494, 8.02973392, 7.89691067, 7.82859344, 7.75872112, 7.72324610, 7.66911638, 7.62362308, 7.59681226, 7.59734197, 7.54703950, 7.55532804, 7.57681560, 7.53234471, 7.44421077, 7.44260181, 7.39233766, 7.33764231, 7.30963957, 5.07814154, 5.25283007, 5.47398290, 5.52346683, 5.46924378, 5.69301920, 5.80968208, 5.93176906, 5.94949871, 5.96719026, 6.02365063, 5.97394152, 5.93031427, 5.96710564, 5.94684679, 5.92163416, 5.91674065, 5.88635288, 5.83526822, 5.85588586, 5.86225553, 5.89028701, 5.88847512, 5.89232410, 5.85075536, 5.59763817, 5.18586020, 5.09400211, 4.99666977, 4.83164604, 4.83643951, 4.77825361, 4.77681411, 4.74769227, 4.84733253, 4.88291347, 4.91572702, 4.97163007, 4.95946312, 4.96458628, 4.95405875, 4.91054289, 4.89794316, 4.92613472, 4.93879718, 4.95558169, 4.96160211, 4.97980813, 5.00989522, 4.85942018, 4.82768209, 4.79305750, 4.70963617, 4.76765205, 4.76029260, 4.72591902, 4.74623061, 4.76524148, 4.78360572, 4.85449406, 4.87914623, 4.86615277, 4.91328642, 4.92801900, 4.91940828, 4.93626861, 4.98333483, 4.96904366, 4.97763642, 4.99272833, 4.99934461, 4.98885846, 4.18069297, 4.58810097, 4.72749862, 4.79977996, 4.86115319, 4.83858867, 4.84324083, 5.00356985, 5.08576044, 5.11218228, 5.18763245, 5.25594680, 5.22463331, 5.24562778, 5.24899407, 5.26250294, 5.31065688, 5.35025298, 5.37682341, 5.40222670, 5.41147006, 5.43415666, 5.43994750, 5.49899440, 5.49488476, 5.00630855, 5.09954183, 5.09087982, 5.10315691, 5.17439962, 5.32299633, 5.47457734, 5.45885950, 5.39812194, 5.41746065, 5.38815453, 5.32113645, 5.29195255, 5.28720487, 5.30264210, 5.32337875, 5.31158440, 5.30291366, 5.32645777, 5.31280072, 5.29490843, 5.26961066, 5.27425498, 5.49144845, 5.02142179, 5.05851397, 4.96395018, 4.77212457, 4.68356946, 4.65971554, 4.66137920, 4.64080635, 4.64474407, 4.69999042, 4.73209782, 4.76936112, 4.75937556, 4.75058802, 4.70789442, 4.69949061, 4.71398700, 4.69639194, 4.65988248, 4.63838702, 4.65004690, 4.64706640, 4.65815561, 5.16392495, 5.06909457, 4.90654926, 4.88022952, 4.96517523, 5.07501759, 5.13106543, 5.11623335, 5.17498084, 5.12864861, 5.16190394, 5.15343670, 5.12557085, 5.11141199, 5.06209239, 5.03215135, 5.03758179, 5.06859416, 5.07011040, 5.07937477, 5.10312116, 5.12995270, 5.15434594, 5.16731010, 5.13316069, 5.27175618, 5.36880136, 5.38136133, 5.34101363, 5.32097021, 5.30473433, 5.38896195, 5.32420894, 5.35734095, 5.35849657, 5.36202190, 5.32202771, 5.27332269, 5.28248036, 5.26857798, 5.27049742, 5.24856804, 5.23275428, 5.23656348, 5.24207865, 5.21801353, 5.20576034, 5.21098675, 4.71578135, 5.02822750, 4.97376380, 4.93754133, 4.91620157, 5.00674152, 5.13399471, 5.18742294, 5.15176431, 5.13952892, 5.19066648, 5.13942845, 5.12517046, 5.10099703, 5.18381032, 5.21225232, 5.22921944, 5.21445197, 5.19376312, 5.20892038, 5.21401875, 5.24300563, 5.26518093, 5.25549881, 5.27317472, 5.29667230, 5.30551459, 5.27336772, 5.20162157, 5.29978192, 5.23166606, 5.16399864, 5.14995825, 5.21092489, 5.13720562, 5.17554795, 5.23556361, 5.22174899, 5.19899350, 5.18552103, 5.13932527, 5.10330756, 5.08587733, 5.04378943, 5.01103690, 5.04316476, 5.03757258, 5.04167590, 4.52094486, 4.63987794, 4.84285441, 4.90696029, 4.90942054, 4.98541180, 5.06631948, 5.05195386, 5.14112322, 5.07782880, 5.14219633, 5.12476781, 5.12541154, 5.12317827, 5.21090026, 5.26706047, 5.35997530, 5.42300497, 5.45686732, 5.55201093, 5.61628694, 5.63060863, 5.63890121, 5.65392164, 5.13126106, 5.63903037, 5.70497131, 5.62627623, 5.65787094, 5.62977402, 5.66726385, 5.62171105, 5.57499023, 5.55729052, 5.53969437, 5.54608377, 5.53250559, 5.54236377, 5.55408283, 5.57162273, 5.56010801, 5.61019160, 5.60901314, 5.58339476, 5.55889953, 5.55943910, 5.53315650, 5.53193915]\n",
    "plt.plot(discr_loss)\n",
    "plt.plot(gen_loss)\n",
    "plt.show()"
   ]
  },
  {
   "cell_type": "code",
   "execution_count": null,
   "metadata": {},
   "outputs": [],
   "source": []
  }
 ],
 "metadata": {
  "kernelspec": {
   "display_name": "Python 3",
   "language": "python",
   "name": "python3"
  },
  "language_info": {
   "codemirror_mode": {
    "name": "ipython",
    "version": 3
   },
   "file_extension": ".py",
   "mimetype": "text/x-python",
   "name": "python",
   "nbconvert_exporter": "python",
   "pygments_lexer": "ipython3",
   "version": "3.9.1"
  }
 },
 "nbformat": 4,
 "nbformat_minor": 2
}
